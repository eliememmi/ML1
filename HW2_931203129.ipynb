{
 "cells":[
  {
   "cell_type":"markdown",
   "source":[
    "# <u>Submission instructions<\/u>\n",
    "### Submission in pairs unless otherwise authorized\n",
    "<ul style=\"font-size: 17px\">\n",
    "<li> This notebook contains all the questions. You should follow the instructions below.<\/li>\n",
    "<li> Solutions for both theoretical and practical parts should be written in this notebook<\/li>\n",
    "<\/ul>\n",
    "\n",
    "<h3> Moodle submission<\/h3>\n",
    "\n",
    "\n",
    "<p style=\"font-size: 17px\">\n",
    "You should submit three files:\n",
    "<\/p>\n",
    "<ul style=\"font-size: 17px\">\n",
    "<li>IPYNB notebook:\n",
    "  <ul>\n",
    "  <li>All the wet and dry parts, including code, graphs, discussion, etc.<\/li>\n",
    "  <\/ul>\n",
    "<\/li>\n",
    "<li>PDF file:\n",
    "  <ul>\n",
    "  <li>Export the notebook to PDF. Make sure that all the cells are visible.<\/li>\n",
    "  <\/ul>\n",
    "<\/li>\n",
    "<\/ul>\n",
    "<p style=\"font-size: 17px\">\n",
    "All files should be in the following format: \"HW2_ID1_ID2.file\"\n",
    "<br>\n",
    "Good Luck!\n",
    "<\/p>"
   ],
   "attachments":{
    
   },
   "metadata":{
    "datalore":{
     "node_id":"yRxF3fGk83TKVLrMatsfF6",
     "type":"MD",
     "hide_input_from_viewers":true,
     "hide_output_from_viewers":true
    }
   }
  },
  {
   "cell_type":"markdown",
   "source":[
    "# Question 1 - Generalizrtion and Overfit (30 pt)"
   ],
   "attachments":{
    
   },
   "metadata":{
    "datalore":{
     "node_id":"6xzUJDnGaEAHujTj6qflUn",
     "type":"MD",
     "hide_input_from_viewers":true,
     "hide_output_from_viewers":true
    }
   }
  },
  {
   "cell_type":"markdown",
   "source":[
    "<p style=\"font-size: 17px\"> In this exercise, we will demonstrate overfitting to random labels.The settings are the following:\n",
    "<ul style=\"font-size: 17px\">\n",
    "<li> Use the MNIST dataset.\n",
    "<li> Work on the first 128 samples from the training dataset.\n",
    "<li> Fix the following parameters:\n",
    "    <ul>\n",
    "        <li> Shuffle to False.\n",
    "        <li> Batch size to 128.\n",
    "    <\/ul>\n",
    "<li> Generate random labels from Bernoulli distribution with a probability of $\\frac{1}{2}$. I.e.,each sample is assigned a random label which is zero or one.\n",
    "<\/ul>\n",
    "\n",
    "<p style=\"font-size: 17px\">\n",
    "Show that by using a Fully Connected netwrok and cross-entropy loss, you are able to achieve a loss value of ~0 (the lower the better).\n",
    "Plot the accuracy and loss convergence for this data and the test data as a function of epochs.\n",
    "What is the accuracy value of the test data? Explain\n",
    "<\/p>"
   ],
   "attachments":{
    
   },
   "metadata":{
    "datalore":{
     "node_id":"zEM8X7YZrr3g1oxEhxBe4G",
     "type":"MD",
     "hide_input_from_viewers":true,
     "hide_output_from_viewers":true
    }
   }
  },
  {
   "cell_type":"code",
   "source":[
    "# Import necessary libraries\n",
    "import numpy as np\n",
    "import torch\n",
    "import pickle\n",
    "import torch.nn as nn\n",
    "import torch.optim as optim\n",
    "from torchvision import datasets, transforms\n",
    "from torch.utils.data import DataLoader, Subset\n",
    "import matplotlib.pyplot as plt\n",
    "from scipy.stats import bernoulli\n",
    "from torch.autograd import Variable\n",
    "import os\n",
    "os.environ['KMP_DUPLICATE_LIB_OK'] = 'True'"
   ],
   "execution_count":2,
   "outputs":[
    
   ],
   "metadata":{
    "datalore":{
     "node_id":"5WUH03DntbT1hmIQDAu1WY",
     "type":"CODE",
     "hide_input_from_viewers":true,
     "hide_output_from_viewers":true
    }
   }
  },
  {
   "cell_type":"code",
   "source":[
    "batch_size = 128\n",
    "transform = transforms.Compose([transforms.ToTensor()])\n",
    "\n",
    "# Loading the data and splitting to train and test\n",
    "train_set = datasets.MNIST('',train = True,transform=transform,download=True)\n",
    "test_set = datasets.MNIST('',train = False,transform=transform, download=True)\n",
    "\n",
    "train_loader = torch.utils.data.DataLoader(dataset=train_set,batch_size=batch_size, shuffle=False)\n",
    "test_loader = torch.utils.data.DataLoader(dataset=test_set,batch_size= test_set.__len__(),shuffle=False)"
   ],
   "execution_count":3,
   "outputs":[
    
   ],
   "metadata":{
    "datalore":{
     "node_id":"O8tRZtLymXgyOSL1QhoJo8",
     "type":"CODE",
     "hide_input_from_viewers":true,
     "hide_output_from_viewers":true
    }
   }
  },
  {
   "cell_type":"code",
   "source":[
    "#Creare random labels with the Bernoulli probability\n",
    "#128 on the train and all for the test\n",
    "\n",
    "train = enumerate(train_loader)\n",
    "_, (train_images, labels) = next(train)\n",
    "random_labels_train = bernoulli.rvs(0.5, size=128)\n",
    "random_labels_train_tensor = torch.Tensor(random_labels_train).long()\n",
    "\n",
    "test = enumerate(test_loader)\n",
    "_, (test_images, _) = next(test)\n",
    "random_labels_test = bernoulli.rvs(0.5, size=len(test_images))\n",
    "random_labels_test_tensor = torch.Tensor(random_labels_test).long()"
   ],
   "execution_count":4,
   "outputs":[
    
   ],
   "metadata":{
    "datalore":{
     "node_id":"MxbqSQ0wB6sxtZrTdARHOk",
     "type":"CODE",
     "hide_input_from_viewers":true,
     "hide_output_from_viewers":true
    }
   }
  },
  {
   "cell_type":"code",
   "source":[
    "#We chose parameter 50 because of the complexity of the model, with parameter = 200 the kernel was shot down\n",
    "\n",
    "class Fully_Connected_Network(nn.Module):\n",
    "    def __init__(self, input_size, num_classes):\n",
    "        super(Fully_Connected_Network, self).__init__()\n",
    "        self.fc1 = nn.Linear(input_size, 50)\n",
    "        self.relu = nn.ReLU()\n",
    "        self.fc2 = nn.Linear(50, num_classes)\n",
    "\n",
    "    def forward(self, x):\n",
    "        out = self.fc1(x)\n",
    "        out = self.relu(out)\n",
    "        out = self.fc2(out)\n",
    "        return out"
   ],
   "execution_count":5,
   "outputs":[
    
   ],
   "metadata":{
    "datalore":{
     "node_id":"zYqSW32dSifTawfXa8H0II",
     "type":"CODE",
     "hide_input_from_viewers":true,
     "hide_output_from_viewers":true
    }
   }
  },
  {
   "cell_type":"code",
   "source":[
    "#Helping functions\n",
    "\n",
    "def to_var(x):\n",
    "    device = torch.device(\"cuda\" if torch.cuda.is_available() else \"cpu\")\n",
    "    return x.to(device)\n",
    "\n",
    "\n",
    "def get_accuracy(images, labels, predictions, accuracy_list):\n",
    "    count = len(images)  \n",
    "    correct = sum(pred == label for label, pred in zip(labels, predictions))\n",
    "    accuracy_list.append(correct \/ count)\n",
    "    return correct \/ count"
   ],
   "execution_count":6,
   "outputs":[
    
   ],
   "metadata":{
    "datalore":{
     "node_id":"jC66DLcE03JIbsO9ZImkWt",
     "type":"CODE",
     "hide_input_from_viewers":true,
     "hide_output_from_viewers":true
    }
   }
  },
  {
   "cell_type":"code",
   "source":[
    "#Collecting the losses\n",
    "\n",
    "loss_train = []\n",
    "loss_test = []\n",
    "\n",
    "#Collecting the accuracies\n",
    "\n",
    "accuracy_train, accuracy_test = [],[]\n",
    "\n",
    "\n",
    "model = Fully_Connected_Network(28*28, 2)\n",
    "\n",
    "\n",
    "if torch.cuda.is_available():\n",
    "    model = model.cuda()\n",
    "\n",
    "\n",
    "loss_func = nn.CrossEntropyLoss()\n",
    "optimizer = torch.optim.SGD(model.parameters(), lr=0.1)\n",
    "\n",
    "#Loop on 500 epochs\n",
    "for epoch in range(500):\n",
    "    images = to_var(train_images.view(-1, 28 * 28))\n",
    "    labels = to_var(random_labels_train_tensor)\n",
    "\n",
    "    #Train\n",
    "    optimizer.zero_grad()\n",
    "    outputs = model.forward(images)\n",
    "    _, predictions = torch.max(outputs.data, 1)\n",
    "    train_loss = loss_func(outputs, labels) # train loss\n",
    "    train_loss.backward()\n",
    "    optimizer.step()\n",
    "    loss_train.append(train_loss.item())\n",
    "    train_accuracy = get_accuracy(images, labels, predictions, accuracy_train) #accuracy\n",
    "\n",
    "    #Test\n",
    "    images = to_var(test_images.view(-1, 28 * 28))\n",
    "    labels = to_var(random_labels_test_tensor)\n",
    "    outputs = model.forward(images)\n",
    "    _, predictions = torch.max(outputs.data, 1)\n",
    "    test_loss = loss_func(outputs, labels)# test loss\n",
    "    test_accuracy = get_accuracy(images, labels, predictions, accuracy_test)#acuracy\n",
    "    loss_test.append(test_loss.item())\n",
    "    if epoch%50 ==0:\n",
    "        print(f\"epoch {epoch}: Train loss: {train_loss}, Train accuracy: {train_accuracy}, Test loss: {test_loss}, Test accuracy: {test_accuracy} \")"
   ],
   "execution_count":7,
   "outputs":[
    {
     "name":"stdout",
     "text":[
      "epoch 0: Train loss: 0.6937936544418335, Train accuracy: 0.515625, Test loss: 0.6942481994628906, Test accuracy: 0.49959999322891235 \n",
      "epoch 50: Train loss: 0.48510730266571045, Train accuracy: 0.8671875, Test loss: 0.7542756199836731, Test accuracy: 0.48829999566078186 \n",
      "epoch 100: Train loss: 0.30289044976234436, Train accuracy: 0.90625, Test loss: 0.9780857563018799, Test accuracy: 0.4885999858379364 \n",
      "epoch 150: Train loss: 0.1578729748725891, Train accuracy: 0.9765625, Test loss: 1.1721075773239136, Test accuracy: 0.4878000020980835 \n",
      "epoch 200: Train loss: 0.07920797169208527, Train accuracy: 1.0, Test loss: 1.3449560403823853, Test accuracy: 0.48669999837875366 \n",
      "epoch 250: Train loss: 0.05037228390574455, Train accuracy: 1.0, Test loss: 1.493015170097351, Test accuracy: 0.4871000051498413 \n",
      "epoch 300: Train loss: 0.035241350531578064, Train accuracy: 1.0, Test loss: 1.611161231994629, Test accuracy: 0.4887999892234802 \n",
      "epoch 350: Train loss: 0.02630339004099369, Train accuracy: 1.0, Test loss: 1.7079800367355347, Test accuracy: 0.4871000051498413 \n",
      "epoch 400: Train loss: 0.02055475115776062, Train accuracy: 1.0, Test loss: 1.7886097431182861, Test accuracy: 0.48840001225471497 \n",
      "epoch 450: Train loss: 0.016629276797175407, Train accuracy: 1.0, Test loss: 1.8574285507202148, Test accuracy: 0.4885999858379364 \n"
     ],
     "output_type":"stream"
    }
   ],
   "metadata":{
    "datalore":{
     "node_id":"rPX6IpHrN5Cqp7R2QCFY2F",
     "type":"CODE",
     "hide_input_from_viewers":true,
     "hide_output_from_viewers":true
    }
   }
  },
  {
   "cell_type":"code",
   "source":[
    "epochs_list = list(range(500))\n",
    "plt.figure(figsize=(10, 6))\n",
    "\n",
    "plt.plot(epochs_list, loss_train, label=\"Loss Train\", color=\"darkblue\", linestyle='-', linewidth=2, marker='o', markersize=5, markevery=20)\n",
    "plt.plot(epochs_list, loss_test, label=\"Loss Test\", color=\"crimson\", linestyle='-', linewidth=2, marker='x', markersize=5, markevery=20)\n",
    "\n",
    "plt.legend(loc=\"upper left\", fontsize=10)\n",
    "plt.title(\"Loss of Train and Test\", fontsize=14)\n",
    "plt.xlabel(\"Epoch\", fontsize=12)\n",
    "plt.ylabel(\"Loss\", fontsize=12)\n",
    "\n",
    "plt.grid(True, which='both', linestyle='--', linewidth=0.5)\n",
    "plt.minorticks_on()\n",
    "\n",
    "\n",
    "plt.tight_layout()\n",
    "plt.show()"
   ],
   "execution_count":10,
   "outputs":[
    {
     "data":{
      "image\/png":"[encoded data removed]"
     },
     "metadata":{
      "image\/png":{
       
      }
     },
     "output_type":"display_data"
    }
   ],
   "metadata":{
    "datalore":{
     "node_id":"A0et7ReiGldsxseHBQJdVy",
     "type":"CODE",
     "hide_input_from_viewers":true,
     "hide_output_from_viewers":true
    }
   }
  },
  {
   "cell_type":"code",
   "source":[
    "epochs_list = list(range(500))\n",
    "plt.figure(figsize=(10, 6))\n",
    "\n",
    "plt.plot(epochs_list, accuracy_train, label=\"Train Accuracy\", color=\"darkgreen\", linestyle='-', linewidth=2, marker='^', markersize=5, markevery=20)\n",
    "plt.plot(epochs_list, accuracy_test, label=\"Test Accuracy\", color=\"orange\", linestyle='-', linewidth=2, marker='s', markersize=5, markevery=20)\n",
    "\n",
    "plt.title(\"Train and Test Accuracy\", fontsize=14)\n",
    "plt.xlabel(\"Epoch\", fontsize=12)\n",
    "plt.ylabel(\"Accuracy\", fontsize=12)\n",
    "\n",
    "plt.legend(loc=\"lower right\", fontsize=10)\n",
    "plt.grid(True, which='both', linestyle='--', linewidth=0.5)\n",
    "plt.minorticks_on()\n",
    "\n",
    "plt.tight_layout()\n",
    "plt.show()"
   ],
   "execution_count":11,
   "outputs":[
    {
     "data":{
      "image\/png":"[encoded data removed]"
     },
     "metadata":{
      "image\/png":{
       
      }
     },
     "output_type":"display_data"
    }
   ],
   "metadata":{
    "datalore":{
     "node_id":"VQvSQXXTe3WN8T4ccJnwEQ",
     "type":"CODE",
     "hide_input_from_viewers":true,
     "hide_output_from_viewers":true
    }
   }
  },
  {
   "cell_type":"markdown",
   "source":[
    "The results clearly show overfitting: the training accuracy approaches 1, demonstrating that the model has learned to perfectly predict the randomly assigned labels. Conversely, the test accuracy stagnates around 0.5, indicating that the model's learned patterns do not generalize to new data. This outcome is expected since the labels are randomly generated. The training loss nearing zero further confirms the model's fit to the training data, while the rising test loss signifies its struggle with the test set."
   ],
   "attachments":{
    
   },
   "metadata":{
    "datalore":{
     "node_id":"O3WKeKVXD2FIZRoO09A3cQ",
     "type":"MD",
     "hide_input_from_viewers":true,
     "hide_output_from_viewers":true
    }
   }
  },
  {
   "cell_type":"markdown",
   "source":[
    "<h1> Question 2 - Sentiment Analysis - Classification (70 pt)<\/h1>"
   ],
   "attachments":{
    
   },
   "metadata":{
    "datalore":{
     "node_id":"gr6R5J0GZ8W4yhRCXw3nDz",
     "type":"MD",
     "hide_input_from_viewers":true,
     "hide_output_from_viewers":true
    }
   }
  },
  {
   "cell_type":"markdown",
   "source":[
    "### a) EDA (10 pt)\n",
    "\n",
    "<p style=\"font-size: 17px\">\n",
    "Explore and analyze your data. Explain your data cleaning and processing pipeline.\n",
    "<\/p>"
   ],
   "attachments":{
    
   },
   "metadata":{
    "datalore":{
     "node_id":"jQitKo31Rdkbb2VkPIklD3",
     "type":"MD",
     "hide_input_from_viewers":false,
     "hide_output_from_viewers":false,
     "report_properties":{
      "rowId":"pO8BK7GS79hAxArThzLcJD"
     }
    }
   }
  },
  {
   "cell_type":"code",
   "source":[
    "import pandas as pd\n",
    "\n",
    "# Load the CSV files into DataFrames, skipping the first row which is not needed\n",
    "train_data = pd.read_csv('trainEmotions.csv', header=None, names=['Emotion', 'Text'], skiprows=1)\n",
    "test_data = pd.read_csv('testEmotions.csv', header=None, names=['Emotion', 'Text'], skiprows=1)\n",
    "\n",
    "# Function to sample n random rows from a DataFrame\n",
    "def sample_n(df, n):\n",
    "    return df.sample(n)\n",
    "\n",
    "# Display 5 random rows from each label for the training data\n",
    "print(\"\\nTrain Data Random Sample:\")\n",
    "random_train_samples = train_data.groupby('Emotion').apply(sample_n, n=5).reset_index(drop=True)\n",
    "print(random_train_samples)\n",
    "\n",
    "# Display 5 random rows from each label for the test data\n",
    "print(\"\\nTest Data Random Sample:\")\n",
    "random_test_samples = test_data.groupby('Emotion').apply(sample_n, n=5).reset_index(drop=True)\n",
    "print(random_test_samples)"
   ],
   "execution_count":1,
   "outputs":[
    {
     "name":"stdout",
     "text":[
      "\n",
      "Train Data Random Sample:\n",
      "      Emotion                                               Text\n",
      "0   happiness  Today is check in day for week 12 of the Artis...\n",
      "1   happiness  finally packed...thinking its time for some sl...\n",
      "2   happiness  @iamoph i just want you to know, im still here...\n",
      "3   happiness  To all mothers out there in Twitterland: Happy...\n",
      "4   happiness  Hey @robluketic its back!!    (robluketic live...\n",
      "5     neutral  @ggenung gables apartments has corporate and t...\n",
      "6     neutral  my wack friends are all raiding my kitchen. RE...\n",
      "7     neutral  Invisible car helps to boost recycling. Honest...\n",
      "8     neutral  @juliaakes hahaha, perfect, my procrastination...\n",
      "9     neutral  Mother's Day - cherrylolita: Thatï¿½s not true...\n",
      "10    sadness  Today in the friendly game one asshole hit me ...\n",
      "11    sadness  @kenyaimagine ... much more injustice than we ...\n",
      "12    sadness  Bout to get ready for work ugh i hate workin o...\n",
      "13    sadness  @hithit  missing jmichelle... told you treat m...\n",
      "14    sadness  i'm so mad that im going to be missing the mai...\n",
      "\n",
      "Test Data Random Sample:\n",
      "      Emotion                                               Text\n",
      "0   happiness  @BrandFancier oh ok  well im sendin lots of lo...\n",
      "1   happiness  OMG! I'm Back. I Know I Was Out For A Week. Be...\n",
      "2   happiness  huhuhu still working to get new clients in mot...\n",
      "3   happiness        @TheoLykos OMG I WANT TO GO TO THE BEACH!!!\n",
      "4   happiness  @KirstenAlexa I KNOW! I love Nicholas Braun &a...\n",
      "5     neutral       Finished Death Du Jour. School's out.  Nerd.\n",
      "6     neutral                  Last weekend in Dallas for awhile\n",
      "7     neutral  I just realized that I can't forward text msgs...\n",
      "8     neutral  My preorder of the Razer Sphex shipped today. ...\n",
      "9     neutral  Night twitterland x I have to be up in five ho...\n",
      "10    sadness       http:\/\/twitpic.com\/67x7n - MISS THEM ALREADY\n",
      "11    sadness  Missing nathan and the bccg already. And my be...\n",
      "12    sadness  @Lilayy same here. like i know there's people ...\n",
      "13    sadness                                    Has a head cold\n",
      "14    sadness  Big Sad Face   Bing doesn't work on iPhone.  I...\n",
      "\n"
     ],
     "output_type":"stream"
    },
    {
     "name":"stderr",
     "text":[
      "\n",
      "C:\\Users\\user\\AppData\\Local\\Temp\\ipykernel_19292\\50479856.py:13: DeprecationWarning: DataFrameGroupBy.apply operated on the grouping columns. This behavior is deprecated, and in a future version of pandas the grouping columns will be excluded from the operation. Either pass `include_groups=False` to exclude the groupings or explicitly select the grouping columns after groupby to silence this warning.\n",
      "  random_train_samples = train_data.groupby('Emotion').apply(sample_n, n=5).reset_index(drop=True)\n",
      "C:\\Users\\user\\AppData\\Local\\Temp\\ipykernel_19292\\50479856.py:18: DeprecationWarning: DataFrameGroupBy.apply operated on the grouping columns. This behavior is deprecated, and in a future version of pandas the grouping columns will be excluded from the operation. Either pass `include_groups=False` to exclude the groupings or explicitly select the grouping columns after groupby to silence this warning.\n",
      "  random_test_samples = test_data.groupby('Emotion').apply(sample_n, n=5).reset_index(drop=True)\n"
     ],
     "output_type":"stream"
    }
   ],
   "metadata":{
    "datalore":{
     "node_id":"aJg7Kpaqxff3ko0XZIW6Gj",
     "type":"CODE",
     "hide_input_from_viewers":false,
     "hide_output_from_viewers":false,
     "report_properties":{
      "rowId":"pO8BK7GS79hAxArThzLcJD"
     }
    }
   }
  },
  {
   "cell_type":"markdown",
   "source":[
    "Looking at random samples from the dataset, we can see that each input contains a relatively short sentence. The presence of user mentions (e.g., \"@username\") in the text samples hints at a possible social media origin, like Twitter. We will remove these mentions as they are not relevant for sentiment analysis. We will keep some punctuation marks as they can add additional sentiment information, such as smileys ':)' and '...' . The rest, such as '#','&' will be removed."
   ],
   "attachments":{
    
   },
   "metadata":{
    "datalore":{
     "node_id":"T0MPfOOQToepCZ3YcSIaGT",
     "type":"MD",
     "hide_input_from_viewers":false,
     "hide_output_from_viewers":false,
     "report_properties":{
      "rowId":"bhiLf8wor1D9vUsQwLOHnC"
     }
    }
   }
  },
  {
   "cell_type":"code",
   "source":[
    "import re\n",
    "\n",
    "# Function to clean the text data\n",
    "def clean_text(text):\n",
    "    text = text.lower()  # Convert to lowercase\n",
    "    text = re.sub(r'@\\w+', '', text)  # Remove username mentions\n",
    "    # Retaining '.', '!', '?', '...', ':', '(', and ')' as they can be significant for sentiment analysis\n",
    "    # Removing other punctuation marks\n",
    "    text = re.sub(r\"[^a-zA-Z0-9.!?...:()]+\", ' ', text)\n",
    "\n",
    "    return text\n",
    "\n",
    "# Display the uncleaned text\n",
    "print(\"\\nUncleaned Train Data Text Example:\")\n",
    "print(train_data['Text'].head())\n",
    "\n",
    "# Apply the cleaning function to the text column\n",
    "train_data['Text'] = train_data['Text'].apply(clean_text)\n",
    "test_data['Text'] = test_data['Text'].apply(clean_text)\n",
    "\n",
    "# Save the cleaned text, we will later use it\n",
    "train_data.to_csv('cleaned_trainEmotions.csv', index=False)\n",
    "test_data.to_csv('cleaned_testEmotions.csv', index=False)\n",
    "\n",
    "# Display the cleaned text\n",
    "print(\"\\nCleaned Train Data Text Example:\")\n",
    "print(train_data['Text'].head())"
   ],
   "execution_count":2,
   "outputs":[
    {
     "name":"stdout",
     "text":[
      "\n",
      "Uncleaned Train Data Text Example:\n",
      "0    victory for the bulldogs was celebrated by 3 w...\n",
      "1                       @saraLDS Thanks for that, Sara\n",
      "2    @Tony_Mandarich well welcome back from the dar...\n",
      "3              @sai_shediddy lol , you gotta share too\n",
      "4    first up, make up for lost time with jelly. Ja...\n",
      "Name: Text, dtype: object\n",
      "\n",
      "Cleaned Train Data Text Example:\n",
      "0    victory for the bulldogs was celebrated by 3 w...\n",
      "1                                 thanks for that sara\n",
      "2                well welcome back from the dark side!\n",
      "3                              lol you gotta share too\n",
      "4    first up make up for lost time with jelly. jal...\n",
      "Name: Text, dtype: object\n"
     ],
     "output_type":"stream"
    }
   ],
   "metadata":{
    "datalore":{
     "node_id":"AoJg1jXcehuPOWVp2fOe3d",
     "type":"CODE",
     "hide_input_from_viewers":false,
     "hide_output_from_viewers":false,
     "report_properties":{
      "rowId":"pO8BK7GS79hAxArThzLcJD"
     }
    }
   }
  },
  {
   "cell_type":"code",
   "source":[
    "# Check for any missing values in the datasets\n",
    "print(\"\\nMissing Values in Training Data:\")\n",
    "print(train_data.isnull().sum())\n",
    "print(\"\\nMissing Values in Test Data:\")\n",
    "print(test_data.isnull().sum())\n",
    "\n",
    "# Explore the distribution of the emotion labels\n",
    "print(\"\\nEmotion Distribution in Training Data:\")\n",
    "print(train_data['Emotion'].value_counts())\n",
    "\n",
    "print(\"\\nEmotion Distribution in Test Data:\")\n",
    "print(test_data['Emotion'].value_counts())"
   ],
   "execution_count":3,
   "outputs":[
    {
     "name":"stdout",
     "text":[
      "\n",
      "Missing Values in Training Data:\n",
      "Emotion    0\n",
      "Text       0\n",
      "dtype: int64\n",
      "\n",
      "Missing Values in Test Data:\n",
      "Emotion    0\n",
      "Text       0\n",
      "dtype: int64\n",
      "\n",
      "Emotion Distribution in Training Data:\n",
      "Emotion\n",
      "happiness    5430\n",
      "neutral      5182\n",
      "sadness      3892\n",
      "Name: count, dtype: int64\n",
      "\n",
      "Emotion Distribution in Test Data:\n",
      "Emotion\n",
      "happiness    1811\n",
      "neutral      1728\n",
      "sadness      1298\n",
      "Name: count, dtype: int64\n"
     ],
     "output_type":"stream"
    }
   ],
   "metadata":{
    "datalore":{
     "node_id":"88YxHMCl45DXTzzOFkAfMe",
     "type":"CODE",
     "hide_input_from_viewers":false,
     "hide_output_from_viewers":false,
     "report_properties":{
      "rowId":"bhiLf8wor1D9vUsQwLOHnC"
     }
    }
   }
  },
  {
   "cell_type":"markdown",
   "source":[
    "We can see that there are no missing values in our dataset, and we have slightly less 'sadness' labeled sentences than 'happiness' and 'neutral'."
   ],
   "attachments":{
    
   },
   "metadata":{
    "datalore":{
     "node_id":"DwmrWprkgIc2XaCqJBWJ3Y",
     "type":"MD",
     "hide_input_from_viewers":false,
     "hide_output_from_viewers":false,
     "report_properties":{
      "rowId":"bhiLf8wor1D9vUsQwLOHnC"
     }
    }
   }
  },
  {
   "cell_type":"markdown",
   "source":[
    "### Exercise\n",
    "<p style=\"font-size: 17px\">\n",
    "The goal of this exercise is to get familiar with recurrent neural networks. \n",
    "<br><br>\n",
    "The field of detecting which emotion is represented in a text is developing and being\n",
    "studied due to its usefulness. For example, detecting if a review is positive or\n",
    "negative and more.\n",
    "<br><br>\n",
    "In this exercise, you will detect the emotion of a sentence. You should get at least 47% accuracy on the test set.\n",
    "<br><br>\n",
    "You should\n",
    "<ul style=\"font-size: 17px\">\n",
    "  <li> Try different model architectures - Vanilla RNN and Gated model (GRU\/LSTM)<\/li>\n",
    "  <li> Use different optimization and regularization methods <\/li>\n",
    "  <li> Try different combinations of hyperparamters<\/li>\n",
    "<\/ul>\n",
    "<\/p>\n",
    "\n",
    "<br>\n",
    "\n",
    "### Data\n",
    "\n",
    "<p style=\"font-size: 17px\">\n",
    "The data is a csv file containing tweets and their labels according to the emotion –\n",
    "{happiness, sadness, neutral}. Every row in the file (except for the header) is an\n",
    "example. \n",
    "<br>\n",
    "Examples: (Notepad++ view)\n",
    "<ul style=\"font-size: 17px\">\n",
    "  <li> happiness,Welcome @doeko ! Really glad to know you here. Your products rox man<\/li>\n",
    "  <li> sadness,Disappointment really sucks! I'm getting used to it.<\/li>\n",
    "  <li> neutral,I just want to Sleep.<\/li>\n",
    "<\/ul>\n",
    "<p style=\"font-size: 17px\">\n",
    "You have a train file – \"trainEmotions.csv\" and a test file – \"testEmotions.csv\". Both files can be found in the \"HW2_data.zip\" file.\n",
    "<\/p>"
   ],
   "attachments":{
    
   },
   "metadata":{
    "datalore":{
     "node_id":"OIk1yvlBuHpRJmBX5LoPsN",
     "type":"MD",
     "hide_input_from_viewers":true,
     "hide_output_from_viewers":true
    }
   }
  },
  {
   "cell_type":"markdown",
   "source":[
    "*****************************"
   ],
   "attachments":{
    
   },
   "metadata":{
    "datalore":{
     "node_id":"ntnNlsfxe05IFStopUSq4e",
     "type":"MD",
     "hide_input_from_viewers":true,
     "hide_output_from_viewers":true
    }
   }
  },
  {
   "cell_type":"markdown",
   "source":[
    "### b) Main (50 pt)\n",
    "\n",
    "<p style=\"font-size: 17px\">\n",
    "Define 2 models, as requested. Train and eval them.\n",
    "<ul style=\"font-size: 17px\">\n",
    "<li> Plot the gated model's accuracy and loss (both on train and test sets) as a function of the epochs.\n",
    "<li> Plot a confusion matrix\n",
    "<\/ul>\n",
    "\n",
    "<\/p>"
   ],
   "attachments":{
    
   },
   "metadata":{
    "datalore":{
     "node_id":"CPXtuFX9dxqZ0MrWHrNZYK",
     "type":"MD",
     "hide_input_from_viewers":true,
     "hide_output_from_viewers":true
    }
   }
  },
  {
   "cell_type":"markdown",
   "source":[
    "**Creating our custom dataset and define the models**"
   ],
   "attachments":{
    
   },
   "metadata":{
    "datalore":{
     "node_id":"hLSlsIkxraunjBUOo6HHkZ",
     "type":"MD",
     "hide_input_from_viewers":true,
     "hide_output_from_viewers":true
    }
   }
  },
  {
   "cell_type":"code",
   "source":[
    "import torch\n",
    "from torch.utils.data import Dataset, DataLoader, random_split\n",
    "import pandas as pd\n",
    "from torchtext.data.utils import get_tokenizer\n",
    "from torchtext.vocab import build_vocab_from_iterator\n",
    "from torch.nn.utils.rnn import pad_sequence\n",
    "\n",
    "class EmotionDataset(Dataset):\n",
    "    def __init__(self, csv_file, tokenizer, vocab=None):\n",
    "        self.data = pd.read_csv(csv_file, skiprows=1, names=['Emotion', 'Text'])\n",
    "        self.data=self.data.astype(str)\n",
    "        self.tokenizer = tokenizer\n",
    "        self.labels = {'happiness': 2, 'sadness': 0, 'neutral': 1}  # Label mapping\n",
    "        \n",
    "        if vocab is None:\n",
    "            self.vocab = build_vocab_from_iterator(self.tokenized_texts(), specials=[\"<unk>\"])\n",
    "            self.vocab.set_default_index(self.vocab[\"<unk>\"])\n",
    "        else:\n",
    "            self.vocab = vocab\n",
    "\n",
    "    def tokenized_texts(self):\n",
    "        for text in self.data['Text']:\n",
    "            yield self.tokenizer(text)\n",
    "\n",
    "    def __len__(self):\n",
    "        return len(self.data)\n",
    "\n",
    "    def __getitem__(self, idx):\n",
    "        text = self.tokenizer(self.data.iloc[idx]['Text'])\n",
    "        label = self.labels[self.data.iloc[idx]['Emotion']]\n",
    "        return torch.tensor([self.vocab[token] for token in text], dtype=torch.long), label\n",
    "\n",
    "# Function the DataLoader uses for batch handling\n",
    "def collate_batch(batch):\n",
    "    label_list, text_list = [], []\n",
    "    for _text, _label in batch:\n",
    "        label_list.append(_label)\n",
    "        text_list.append(_text)\n",
    "    return pad_sequence(text_list, padding_value=0.0, batch_first=True), torch.tensor(label_list, dtype=torch.int64)\n",
    "\n",
    "# Define tokenizer\n",
    "tokenizer = get_tokenizer('basic_english')\n",
    "\n",
    "# Create the full train dataset\n",
    "train_dataset = EmotionDataset('cleaned_trainEmotions.csv', tokenizer)\n",
    "\n",
    "\n",
    "# Split the full train dataset into training and validation subsets\n",
    "total_size = len(train_dataset)\n",
    "train_size = int(total_size * 0.8)\n",
    "val_size = total_size - train_size\n",
    "train_subset, val_subset = random_split(train_dataset, [train_size, val_size])\n",
    "\n",
    "# Create DataLoaders for the training and validation subsets\n",
    "train_loader = DataLoader(train_subset, batch_size=64, shuffle=True, collate_fn=collate_batch)\n",
    "val_loader = DataLoader(val_subset, batch_size=64, shuffle=False, collate_fn=collate_batch)\n",
    "\n",
    "# Create the test dataset and DataLoader\n",
    "test_dataset = EmotionDataset('cleaned_testEmotions.csv', tokenizer, vocab=train_dataset.vocab)\n",
    "test_loader = DataLoader(test_dataset, batch_size=64, shuffle=False, collate_fn=collate_batch)"
   ],
   "execution_count":null,
   "outputs":[
    
   ],
   "metadata":{
    "datalore":{
     "node_id":"ZR9c4KmYbpjADwkGm7ZoJS",
     "type":"CODE",
     "hide_input_from_viewers":true,
     "hide_output_from_viewers":true
    }
   }
  },
  {
   "cell_type":"code",
   "source":[
    "import torch.nn as nn\n",
    "\n",
    "class RNN(nn.Module):\n",
    "    def __init__(self, input_dim, embedding_dim, hidden_dim, output_dim, dropout_p = 0):\n",
    "        super(RNN, self).__init__()\n",
    "        self.embedding = nn.Embedding(input_dim, embedding_dim)\n",
    "        self.rnn = nn.RNN(embedding_dim, hidden_dim, batch_first=True, nonlinearity='relu')\n",
    "        self.fc_dropout = nn.Dropout(dropout_p)  # dropout before the fully connected layer\n",
    "        self.fc = nn.Linear(hidden_dim, output_dim)\n",
    "        \n",
    "    def forward(self, text):\n",
    "        embedded = self.embedding(text)  # embedded: [batch_size, seq_length, embedding_dim]\n",
    "        output, hidden = self.rnn(embedded)  # output: [batch_size, seq_length, hidden_dim]\n",
    "                                             # hidden: [1, batch_size, hidden_dim]\n",
    "        hidden = hidden[-1]  # hidden: [batch_size, hidden_dim]\n",
    "        hidden = self.fc_dropout(hidden)  # Apply dropout before the fully connected layer\n",
    "        return self.fc(hidden)\n",
    "    \n",
    "# LSTM Model\n",
    "class LSTM(nn.Module):\n",
    "    def __init__(self, input_dim, embedding_dim, hidden_dim, output_dim, dropout_p = 0):\n",
    "        super().__init__()\n",
    "        self.embedding = nn.Embedding(input_dim, embedding_dim)\n",
    "        self.lstm = nn.LSTM(embedding_dim, hidden_dim, batch_first=True)\n",
    "        self.dropout = nn.Dropout(dropout_p)\n",
    "        self.fc = nn.Linear(hidden_dim, output_dim)\n",
    "        \n",
    "    def forward(self, text):\n",
    "        embedded = self.embedding(text)\n",
    "        output, (hidden, cell) = self.lstm(embedded)\n",
    "        hidden = hidden.squeeze(0)  # Get the last hidden state\n",
    "        hidden = self.dropout(hidden)  # Apply dropout after squeezing the hidden state\n",
    "        return self.fc(hidden)\n",
    "\n",
    "input_dim = len(train_dataset.vocab)\n",
    "output_dim = len(train_dataset.labels)"
   ],
   "execution_count":null,
   "outputs":[
    
   ],
   "metadata":{
    "datalore":{
     "node_id":"EfHLldkhoPrwoRjs291TAd",
     "type":"CODE",
     "hide_input_from_viewers":false,
     "hide_output_from_viewers":false,
     "report_properties":{
      "rowId":"pO8BK7GS79hAxArThzLcJD"
     }
    }
   }
  },
  {
   "cell_type":"markdown",
   "source":[
    "# LSTM Model"
   ],
   "attachments":{
    
   },
   "metadata":{
    "datalore":{
     "node_id":"z3hiSsOHhvAnHUoNBoNrsL",
     "type":"MD",
     "hide_input_from_viewers":true,
     "hide_output_from_viewers":true
    }
   }
  },
  {
   "cell_type":"markdown",
   "source":[
    "The method we will use is a greedy selection of parameters: we will start by trying out different hidden layer sizes (with the rest of parameters fixed) and pick the best one. Then we will try out different learning rates, using the selected hidden size. Then we will choose a dropout rate using the same logic. The same method will be used for selecting parameters for the RNN model. "
   ],
   "attachments":{
    
   },
   "metadata":{
    "datalore":{
     "node_id":"ELDDWFmNOaJGWJYN2Oyntj",
     "type":"MD",
     "hide_input_from_viewers":true,
     "hide_output_from_viewers":true
    }
   }
  },
  {
   "cell_type":"code",
   "source":[
    "import torch\n",
    "import torch.optim as optim\n",
    "import matplotlib.pyplot as plt\n",
    "from sklearn.metrics import confusion_matrix\n",
    "import seaborn as sns\n",
    "import numpy as np\n",
    "\n",
    "def train_and_evaluate(model, train_loader, test_loader, optimizer, criterion, device, num_epochs=2, should_draw=False, val_or_test='Validation'):\n",
    "    model.to(device)\n",
    "    train_losses = []\n",
    "    test_losses = []\n",
    "    train_accuracies = []\n",
    "    test_accuracies = []\n",
    "    patience = 3\n",
    "    best_test_accuracy = 0\n",
    "    best_model_state = None\n",
    "    best_predictions = None\n",
    "    best_labels = None\n",
    "\n",
    "    for epoch in range(num_epochs):\n",
    "        # Training phase\n",
    "        model.train()\n",
    "        train_loss = 0\n",
    "        correct = 0\n",
    "        total = 0\n",
    "        for texts, labels in train_loader:\n",
    "            texts, labels = texts.to(device), labels.to(device)\n",
    "            optimizer.zero_grad()\n",
    "            predictions = model(texts)\n",
    "            loss = criterion(predictions, labels)\n",
    "            loss.backward()\n",
    "            optimizer.step()\n",
    "            train_loss += loss.item()\n",
    "            _, predicted = torch.max(predictions.data, 1)\n",
    "            total += labels.size(0)\n",
    "            correct += (predicted == labels).sum().item()\n",
    "        epoch_train_loss = train_loss \/ len(train_loader)\n",
    "        epoch_train_acc = 100 * correct \/ total\n",
    "        train_losses.append(epoch_train_loss)\n",
    "        train_accuracies.append(epoch_train_acc)\n",
    "\n",
    "        # Evaluation phase\n",
    "        model.eval()\n",
    "        test_loss = 0\n",
    "        test_correct = 0\n",
    "        test_total = 0\n",
    "        test_predictions = []\n",
    "        test_labels = []\n",
    "        with torch.no_grad():\n",
    "            for texts, labels in test_loader:\n",
    "                texts, labels = texts.to(device), labels.to(device)\n",
    "                predictions = model(texts)\n",
    "                loss = criterion(predictions, labels)\n",
    "                test_loss += loss.item()\n",
    "                _, predicted = torch.max(predictions.data, 1)\n",
    "                test_total += labels.size(0)\n",
    "                test_correct += (predicted == labels).sum().item()\n",
    "                test_predictions.extend(predicted.cpu().numpy())\n",
    "                test_labels.extend(labels.cpu().numpy())\n",
    "        epoch_test_loss = test_loss \/ len(test_loader)\n",
    "        epoch_test_acc = 100 * test_correct \/ test_total\n",
    "        test_losses.append(epoch_test_loss)\n",
    "        test_accuracies.append(epoch_test_acc)\n",
    "\n",
    "        print(f'Epoch {epoch+1}: Train Loss: {epoch_train_loss:.4f}, Train Accuracy: {epoch_train_acc:.2f}%, {val_or_test} Loss: {epoch_test_loss:.4f}, {val_or_test} Accuracy: {epoch_test_acc:.2f}%')\n",
    "\n",
    "        # Update best model if improved\n",
    "        if epoch_test_acc > best_test_accuracy:\n",
    "            best_test_accuracy = epoch_test_acc\n",
    "            best_model_state = model.state_dict()\n",
    "            best_predictions = test_predictions\n",
    "            best_labels = test_labels\n",
    "            epochs_without_improvement = 0\n",
    "        else:\n",
    "            epochs_without_improvement += 1\n",
    "            if epochs_without_improvement >= patience:\n",
    "                print(f'Stopping early at epoch {epoch+1}')\n",
    "                break\n",
    "\n",
    "    if should_draw:\n",
    "        # Load the best model for evaluation\n",
    "        model.load_state_dict(best_model_state)\n",
    "\n",
    "        print(f'Best {val_or_test} accuracy: {best_test_accuracy}')          \n",
    "        # Plotting\n",
    "        plt.figure(figsize=(12, 5))\n",
    "        plt.subplot(1, 2, 1)\n",
    "        plt.plot(train_losses, label='Training Loss')\n",
    "        plt.plot(test_losses, label='Test Loss')\n",
    "        plt.title('Loss over epochs')\n",
    "        plt.xlabel('Epoch')\n",
    "        plt.ylabel('Loss')\n",
    "        plt.legend()\n",
    "\n",
    "        plt.subplot(1, 2, 2)\n",
    "        plt.plot(train_accuracies, label='Training Accuracy')\n",
    "        plt.plot(test_accuracies, label='Test Accuracy')\n",
    "        plt.title('Accuracy over epochs')\n",
    "        plt.xlabel('Epoch')\n",
    "        plt.ylabel('Accuracy')\n",
    "        plt.legend()\n",
    "        plt.tight_layout()\n",
    "        plt.show()\n",
    "\n",
    "        # Confusion Matrix\n",
    "        cm = confusion_matrix(best_labels, best_predictions)\n",
    "        sns.heatmap(cm, annot=True, fmt='d')\n",
    "        plt.xlabel('Predicted')\n",
    "        plt.ylabel('Actual')\n",
    "        plt.show()\n",
    "\n",
    "    return best_test_accuracy"
   ],
   "execution_count":null,
   "outputs":[
    
   ],
   "metadata":{
    "datalore":{
     "node_id":"axsX3swuAOeY7wiKWTmW91",
     "type":"CODE",
     "hide_input_from_viewers":false,
     "hide_output_from_viewers":false,
     "report_properties":{
      "rowId":"pO8BK7GS79hAxArThzLcJD"
     }
    }
   }
  },
  {
   "cell_type":"markdown",
   "source":[
    "*****************************"
   ],
   "attachments":{
    
   },
   "metadata":{
    "datalore":{
     "node_id":"RBvpUgtaVJiZe2WuL51G4n",
     "type":"MD",
     "hide_input_from_viewers":true,
     "hide_output_from_viewers":true
    }
   }
  },
  {
   "cell_type":"code",
   "source":[
    "criterion = nn.CrossEntropyLoss()\n",
    "# Move to GPU, if available\n",
    "device = torch.device('cuda' if torch.cuda.is_available() else 'cpu')\n",
    "lstm_embedding_dim = 100"
   ],
   "execution_count":null,
   "outputs":[
    
   ],
   "metadata":{
    "datalore":{
     "node_id":"hDfKFhsteGKuQdMumrSziw",
     "type":"CODE",
     "hide_input_from_viewers":false,
     "hide_output_from_viewers":false,
     "report_properties":{
      "rowId":"bhiLf8wor1D9vUsQwLOHnC"
     }
    }
   }
  },
  {
   "cell_type":"code",
   "source":[
    "# trying out different hidden layer dimensions for our LSTM model\n",
    "\n",
    "hidden_dims = [32, 64, 128, 256, 512]  \n",
    "best_test_accuracy = 0\n",
    "best_hidden_dim_LSTM = None\n",
    "num_epochs = 16\n",
    "\n",
    "for hidden_dim in hidden_dims:\n",
    "    print(f\"Training LSTM with hidden dimension: {hidden_dim}\")\n",
    "    lstm_model = LSTM(input_dim, lstm_embedding_dim, hidden_dim, output_dim)\n",
    "    lstm_optimizer = optim.Adam(lstm_model.parameters(), lr=0.001)  # Use an appropriate learning rate\n",
    "    test_accuracy = train_and_evaluate(lstm_model, train_loader, val_loader, lstm_optimizer, criterion, device, num_epochs)\n",
    "    print(f\"Test Accuracy for hidden dimension {hidden_dim}: {test_accuracy}%\")\n",
    "    if test_accuracy > best_test_accuracy:\n",
    "        best_test_accuracy = test_accuracy\n",
    "        best_hidden_dim_LSTM = hidden_dim\n",
    "\n",
    "print(f\"Best hidden dimension is: {best_hidden_dim_LSTM} with an accuracy of: {best_test_accuracy}%\")"
   ],
   "execution_count":8,
   "outputs":[
    {
     "name":"stdout",
     "text":[
      "Training LSTM with hidden dimension: 32\n",
      "\n",
      "Epoch 1: Train Loss: 1.0858, Train Accuracy: 37.79%, Validation Loss: 1.0703, Validation Accuracy: 42.40%\n",
      "Epoch 2: Train Loss: 1.0441, Train Accuracy: 46.51%, Validation Loss: 1.0219, Validation Accuracy: 48.81%\n",
      "Epoch 3: Train Loss: 0.9274, Train Accuracy: 57.50%, Validation Loss: 0.9732, Validation Accuracy: 54.50%\n",
      "Epoch 4: Train Loss: 0.8037, Train Accuracy: 65.80%, Validation Loss: 0.9622, Validation Accuracy: 56.26%\n",
      "Epoch 5: Train Loss: 0.6957, Train Accuracy: 71.75%, Validation Loss: 0.9728, Validation Accuracy: 58.08%\n",
      "Epoch 6: Train Loss: 0.5916, Train Accuracy: 77.54%, Validation Loss: 0.9762, Validation Accuracy: 59.53%\n",
      "Epoch 7: Train Loss: 0.5104, Train Accuracy: 81.27%, Validation Loss: 1.0535, Validation Accuracy: 58.39%\n",
      "Epoch 8: Train Loss: 0.4475, Train Accuracy: 83.87%, Validation Loss: 1.0814, Validation Accuracy: 58.67%\n",
      "Epoch 9: Train Loss: 0.3875, Train Accuracy: 86.74%, Validation Loss: 1.2104, Validation Accuracy: 57.29%\n",
      "Stopping early at epoch 9\n",
      "Test Accuracy for hidden dimension 32: 59.53119613926232%\n",
      "Training LSTM with hidden dimension: 64\n",
      "Epoch 1: Train Loss: 1.0782, Train Accuracy: 40.86%, Validation Loss: 1.0705, Validation Accuracy: 43.74%\n",
      "Epoch 2: Train Loss: 1.0168, Train Accuracy: 50.38%, Validation Loss: 1.0051, Validation Accuracy: 50.50%\n",
      "Epoch 3: Train Loss: 0.9073, Train Accuracy: 58.85%, Validation Loss: 0.9252, Validation Accuracy: 56.88%\n",
      "Epoch 4: Train Loss: 0.7806, Train Accuracy: 67.65%, Validation Loss: 0.9131, Validation Accuracy: 57.57%\n",
      "Epoch 5: Train Loss: 0.6633, Train Accuracy: 74.30%, Validation Loss: 0.9437, Validation Accuracy: 59.26%\n",
      "Epoch 6: Train Loss: 0.5651, Train Accuracy: 79.13%, Validation Loss: 0.9741, Validation Accuracy: 58.95%\n",
      "Epoch 7: Train Loss: 0.4749, Train Accuracy: 83.19%, Validation Loss: 1.0729, Validation Accuracy: 58.19%\n",
      "Epoch 8: Train Loss: 0.4129, Train Accuracy: 85.72%, Validation Loss: 1.1289, Validation Accuracy: 59.29%\n",
      "Epoch 9: Train Loss: 0.3350, Train Accuracy: 89.23%, Validation Loss: 1.2187, Validation Accuracy: 59.77%\n",
      "Epoch 10: Train Loss: 0.2847, Train Accuracy: 90.98%, Validation Loss: 1.2638, Validation Accuracy: 58.70%\n",
      "Epoch 11: Train Loss: 0.2345, Train Accuracy: 92.68%, Validation Loss: 1.5336, Validation Accuracy: 55.57%\n",
      "Epoch 12: Train Loss: 0.2303, Train Accuracy: 92.92%, Validation Loss: 1.3941, Validation Accuracy: 57.81%\n",
      "Stopping early at epoch 12\n",
      "Test Accuracy for hidden dimension 64: 59.77249224405377%\n",
      "Training LSTM with hidden dimension: 128\n",
      "Epoch 1: Train Loss: 1.0897, Train Accuracy: 36.96%, Validation Loss: 1.0812, Validation Accuracy: 37.61%\n",
      "Epoch 2: Train Loss: 1.0567, Train Accuracy: 40.76%, Validation Loss: 1.0101, Validation Accuracy: 50.02%\n",
      "Epoch 3: Train Loss: 0.9134, Train Accuracy: 57.78%, Validation Loss: 0.9259, Validation Accuracy: 55.81%\n",
      "Epoch 4: Train Loss: 0.7914, Train Accuracy: 65.94%, Validation Loss: 0.8899, Validation Accuracy: 59.81%\n",
      "Epoch 5: Train Loss: 0.6772, Train Accuracy: 72.81%, Validation Loss: 0.8960, Validation Accuracy: 60.50%\n",
      "Epoch 6: Train Loss: 0.5765, Train Accuracy: 77.61%, Validation Loss: 0.9524, Validation Accuracy: 59.74%\n",
      "Epoch 7: Train Loss: 0.4746, Train Accuracy: 82.97%, Validation Loss: 1.0569, Validation Accuracy: 59.74%\n",
      "Epoch 8: Train Loss: 0.3857, Train Accuracy: 86.57%, Validation Loss: 1.0927, Validation Accuracy: 59.39%\n",
      "Stopping early at epoch 8\n",
      "Test Accuracy for hidden dimension 128: 60.49638055842813%\n",
      "Training LSTM with hidden dimension: 256\n",
      "Epoch 1: Train Loss: 1.0898, Train Accuracy: 37.78%, Validation Loss: 1.0811, Validation Accuracy: 36.78%\n",
      "Epoch 2: Train Loss: 1.0395, Train Accuracy: 45.20%, Validation Loss: 1.0041, Validation Accuracy: 50.09%\n",
      "Epoch 3: Train Loss: 0.9033, Train Accuracy: 58.44%, Validation Loss: 0.9273, Validation Accuracy: 57.22%\n",
      "Epoch 4: Train Loss: 0.7844, Train Accuracy: 66.58%, Validation Loss: 0.8944, Validation Accuracy: 60.43%\n",
      "Epoch 5: Train Loss: 0.6828, Train Accuracy: 71.94%, Validation Loss: 0.8997, Validation Accuracy: 61.36%\n",
      "Epoch 6: Train Loss: 0.5870, Train Accuracy: 77.29%, Validation Loss: 0.9488, Validation Accuracy: 61.22%\n",
      "Epoch 7: Train Loss: 0.4833, Train Accuracy: 82.31%, Validation Loss: 1.0516, Validation Accuracy: 60.88%\n",
      "Epoch 8: Train Loss: 0.3824, Train Accuracy: 86.79%, Validation Loss: 1.1036, Validation Accuracy: 61.67%\n",
      "Epoch 9: Train Loss: 0.2900, Train Accuracy: 90.36%, Validation Loss: 1.2034, Validation Accuracy: 59.12%\n",
      "Epoch 10: Train Loss: 0.2228, Train Accuracy: 93.03%, Validation Loss: 1.3375, Validation Accuracy: 59.50%\n",
      "Epoch 11: Train Loss: 0.1753, Train Accuracy: 94.73%, Validation Loss: 1.5216, Validation Accuracy: 59.19%\n",
      "Stopping early at epoch 11\n",
      "Test Accuracy for hidden dimension 256: 61.66839021027232%\n",
      "Training LSTM with hidden dimension: 512\n",
      "Epoch 1: Train Loss: 1.0895, Train Accuracy: 37.83%, Validation Loss: 1.0739, Validation Accuracy: 42.05%\n",
      "Epoch 2: Train Loss: 1.0449, Train Accuracy: 47.03%, Validation Loss: 1.0262, Validation Accuracy: 48.40%\n",
      "Epoch 3: Train Loss: 0.9509, Train Accuracy: 54.58%, Validation Loss: 0.9467, Validation Accuracy: 55.53%\n",
      "Epoch 4: Train Loss: 0.8265, Train Accuracy: 63.45%, Validation Loss: 0.8994, Validation Accuracy: 58.77%\n",
      "Epoch 5: Train Loss: 0.7118, Train Accuracy: 70.87%, Validation Loss: 0.8821, Validation Accuracy: 60.77%\n",
      "Epoch 6: Train Loss: 0.5900, Train Accuracy: 76.76%, Validation Loss: 0.9354, Validation Accuracy: 61.05%\n",
      "Epoch 7: Train Loss: 0.4619, Train Accuracy: 82.88%, Validation Loss: 1.0330, Validation Accuracy: 59.26%\n",
      "Epoch 8: Train Loss: 0.3355, Train Accuracy: 88.47%, Validation Loss: 1.1835, Validation Accuracy: 60.01%\n",
      "Epoch 9: Train Loss: 0.2414, Train Accuracy: 91.73%, Validation Loss: 1.3310, Validation Accuracy: 60.57%\n",
      "Stopping early at epoch 9\n",
      "Test Accuracy for hidden dimension 512: 61.047914512237156%\n",
      "Best hidden dimension is: 256 with an accuracy of: 61.66839021027232%\n"
     ],
     "output_type":"stream"
    },
    {
     "name":"stderr",
     "text":[
      "\n"
     ],
     "output_type":"stream"
    }
   ],
   "metadata":{
    "datalore":{
     "node_id":"rQ0hj5TtSOgGdI4Eu1pVHI",
     "type":"CODE",
     "hide_input_from_viewers":false,
     "hide_output_from_viewers":false,
     "report_properties":{
      "rowId":"bhiLf8wor1D9vUsQwLOHnC"
     }
    }
   }
  },
  {
   "cell_type":"code",
   "source":[
    "# trying out different learning rates for our LSTM model\n",
    "learning_rates = [0.1, 0.01,0.005, 0.001, 0.0001]\n",
    "best_test_accuracy = 0\n",
    "best_lr_LSTM = None\n",
    "num_epochs = 16\n",
    "for lr in learning_rates:\n",
    "    print(f\"Training LSTM with learning rate: {lr}\")\n",
    "    lstm_model = LSTM(input_dim, lstm_embedding_dim, best_hidden_dim_LSTM, output_dim)\n",
    "    lstm_optimizer = optim.Adam(lstm_model.parameters(), lr=lr)\n",
    "    test_accuracy = train_and_evaluate(lstm_model, train_loader, val_loader, lstm_optimizer, criterion, device, num_epochs)\n",
    "    if test_accuracy > best_test_accuracy:\n",
    "        best_test_accuracy = test_accuracy\n",
    "        best_lr_LSTM = lr\n",
    "\n",
    "\n",
    "print(f\"Best learning rate is: {best_lr_LSTM} with an accuracy of: {best_test_accuracy}\")"
   ],
   "execution_count":9,
   "outputs":[
    {
     "name":"stdout",
     "text":[
      "Training LSTM with learning rate: 0.1\n",
      "\n",
      "Epoch 1: Train Loss: 1.9146, Train Accuracy: 34.16%, Validation Loss: 1.1673, Validation Accuracy: 37.06%\n",
      "Epoch 2: Train Loss: 1.5324, Train Accuracy: 35.04%, Validation Loss: 1.4037, Validation Accuracy: 37.95%\n",
      "Epoch 3: Train Loss: 1.3706, Train Accuracy: 36.77%, Validation Loss: 1.4336, Validation Accuracy: 36.95%\n",
      "Epoch 4: Train Loss: 1.2780, Train Accuracy: 38.40%, Validation Loss: 1.3911, Validation Accuracy: 39.12%\n",
      "Epoch 5: Train Loss: 1.2258, Train Accuracy: 38.59%, Validation Loss: 1.2474, Validation Accuracy: 36.44%\n",
      "Epoch 6: Train Loss: 1.2362, Train Accuracy: 38.82%, Validation Loss: 1.5121, Validation Accuracy: 36.99%\n",
      "Epoch 7: Train Loss: 1.2962, Train Accuracy: 39.17%, Validation Loss: 1.2614, Validation Accuracy: 35.40%\n",
      "Stopping early at epoch 7\n",
      "Training LSTM with learning rate: 0.01\n",
      "Epoch 1: Train Loss: 1.1051, Train Accuracy: 38.94%, Validation Loss: 1.0676, Validation Accuracy: 43.09%\n",
      "Epoch 2: Train Loss: 1.0161, Train Accuracy: 49.38%, Validation Loss: 0.9790, Validation Accuracy: 54.02%\n",
      "Epoch 3: Train Loss: 0.8615, Train Accuracy: 61.84%, Validation Loss: 0.9137, Validation Accuracy: 57.39%\n",
      "Epoch 4: Train Loss: 0.7166, Train Accuracy: 70.25%, Validation Loss: 0.9552, Validation Accuracy: 57.67%\n",
      "Epoch 5: Train Loss: 0.6074, Train Accuracy: 75.83%, Validation Loss: 0.9734, Validation Accuracy: 58.74%\n",
      "Epoch 6: Train Loss: 0.5124, Train Accuracy: 80.38%, Validation Loss: 1.0081, Validation Accuracy: 59.46%\n",
      "Epoch 7: Train Loss: 0.4290, Train Accuracy: 83.73%, Validation Loss: 1.0744, Validation Accuracy: 58.39%\n",
      "Epoch 8: Train Loss: 0.3796, Train Accuracy: 85.46%, Validation Loss: 1.1369, Validation Accuracy: 58.88%\n",
      "Epoch 9: Train Loss: 0.3539, Train Accuracy: 86.86%, Validation Loss: 1.1624, Validation Accuracy: 58.08%\n",
      "Stopping early at epoch 9\n",
      "Training LSTM with learning rate: 0.005\n",
      "Epoch 1: Train Loss: 1.0779, Train Accuracy: 42.47%, Validation Loss: 1.0432, Validation Accuracy: 46.29%\n",
      "Epoch 2: Train Loss: 0.9880, Train Accuracy: 52.71%, Validation Loss: 0.9692, Validation Accuracy: 54.98%\n",
      "Epoch 3: Train Loss: 0.7870, Train Accuracy: 67.17%, Validation Loss: 0.9289, Validation Accuracy: 58.77%\n",
      "Epoch 4: Train Loss: 0.5851, Train Accuracy: 77.59%, Validation Loss: 0.9598, Validation Accuracy: 58.53%\n",
      "Epoch 5: Train Loss: 0.4244, Train Accuracy: 84.52%, Validation Loss: 1.0633, Validation Accuracy: 59.08%\n",
      "Epoch 6: Train Loss: 0.3044, Train Accuracy: 89.76%, Validation Loss: 1.2024, Validation Accuracy: 59.12%\n",
      "Epoch 7: Train Loss: 0.2236, Train Accuracy: 92.42%, Validation Loss: 1.3335, Validation Accuracy: 59.01%\n",
      "Epoch 8: Train Loss: 0.1701, Train Accuracy: 94.39%, Validation Loss: 1.4350, Validation Accuracy: 57.70%\n",
      "Epoch 9: Train Loss: 0.1303, Train Accuracy: 95.77%, Validation Loss: 1.6225, Validation Accuracy: 57.19%\n",
      "Stopping early at epoch 9\n",
      "Training LSTM with learning rate: 0.001\n",
      "Epoch 1: Train Loss: 1.0892, Train Accuracy: 37.22%, Validation Loss: 1.0678, Validation Accuracy: 41.26%\n",
      "Epoch 2: Train Loss: 1.0370, Train Accuracy: 44.15%, Validation Loss: 1.0060, Validation Accuracy: 49.29%\n",
      "Epoch 3: Train Loss: 0.9035, Train Accuracy: 58.36%, Validation Loss: 0.9164, Validation Accuracy: 56.74%\n",
      "Epoch 4: Train Loss: 0.7723, Train Accuracy: 66.49%, Validation Loss: 0.8952, Validation Accuracy: 58.32%\n",
      "Epoch 5: Train Loss: 0.6628, Train Accuracy: 72.56%, Validation Loss: 0.9123, Validation Accuracy: 59.43%\n",
      "Epoch 6: Train Loss: 0.5600, Train Accuracy: 78.54%, Validation Loss: 0.9673, Validation Accuracy: 60.77%\n",
      "Epoch 7: Train Loss: 0.4494, Train Accuracy: 83.36%, Validation Loss: 1.1120, Validation Accuracy: 60.19%\n",
      "Epoch 8: Train Loss: 0.3517, Train Accuracy: 87.63%, Validation Loss: 1.1476, Validation Accuracy: 58.67%\n",
      "Epoch 9: Train Loss: 0.2655, Train Accuracy: 91.14%, Validation Loss: 1.3302, Validation Accuracy: 58.84%\n",
      "Stopping early at epoch 9\n",
      "Training LSTM with learning rate: 0.0001\n",
      "Epoch 1: Train Loss: 1.0889, Train Accuracy: 37.17%, Validation Loss: 1.0848, Validation Accuracy: 37.50%\n",
      "Epoch 2: Train Loss: 1.0845, Train Accuracy: 37.82%, Validation Loss: 1.0749, Validation Accuracy: 38.61%\n",
      "Epoch 3: Train Loss: 1.0728, Train Accuracy: 41.51%, Validation Loss: 1.0641, Validation Accuracy: 41.95%\n",
      "Epoch 4: Train Loss: 1.0573, Train Accuracy: 44.45%, Validation Loss: 1.0539, Validation Accuracy: 45.29%\n",
      "Epoch 5: Train Loss: 1.0345, Train Accuracy: 47.66%, Validation Loss: 1.0308, Validation Accuracy: 48.50%\n",
      "Epoch 6: Train Loss: 1.0192, Train Accuracy: 49.60%, Validation Loss: 1.0204, Validation Accuracy: 49.43%\n",
      "Epoch 7: Train Loss: 0.9924, Train Accuracy: 52.37%, Validation Loss: 1.0036, Validation Accuracy: 51.09%\n",
      "Epoch 8: Train Loss: 0.9585, Train Accuracy: 55.38%, Validation Loss: 0.9744, Validation Accuracy: 53.22%\n",
      "Epoch 9: Train Loss: 0.9243, Train Accuracy: 57.99%, Validation Loss: 0.9537, Validation Accuracy: 54.95%\n",
      "Epoch 10: Train Loss: 0.8936, Train Accuracy: 59.81%, Validation Loss: 0.9482, Validation Accuracy: 56.02%\n",
      "Epoch 11: Train Loss: 0.8667, Train Accuracy: 62.34%, Validation Loss: 0.9366, Validation Accuracy: 56.95%\n",
      "Epoch 12: Train Loss: 0.8344, Train Accuracy: 64.02%, Validation Loss: 0.9413, Validation Accuracy: 56.74%\n",
      "Epoch 13: Train Loss: 0.8111, Train Accuracy: 65.42%, Validation Loss: 0.9263, Validation Accuracy: 57.29%\n",
      "Epoch 14: Train Loss: 0.7877, Train Accuracy: 67.05%, Validation Loss: 0.9126, Validation Accuracy: 59.22%\n",
      "Epoch 15: Train Loss: 0.7618, Train Accuracy: 68.47%, Validation Loss: 0.9299, Validation Accuracy: 58.32%\n",
      "Epoch 16: Train Loss: 0.7391, Train Accuracy: 70.12%, Validation Loss: 0.9112, Validation Accuracy: 59.43%\n",
      "Best learning rate is: 0.001 with an accuracy of: 60.77214753533264\n"
     ],
     "output_type":"stream"
    },
    {
     "name":"stderr",
     "text":[
      "\n"
     ],
     "output_type":"stream"
    }
   ],
   "metadata":{
    "datalore":{
     "node_id":"TTamNRseqvpG7IR6YsDZJz",
     "type":"CODE",
     "hide_input_from_viewers":false,
     "hide_output_from_viewers":false,
     "report_properties":{
      "rowId":"bhiLf8wor1D9vUsQwLOHnC"
     }
    }
   }
  },
  {
   "cell_type":"code",
   "source":[
    "# trying out different dropout probabilities (for controling regularization)\n",
    "dropout_rates = [0.0, 0.2, 0.4, 0.6, 0.8]\n",
    "best_test_accuracy = 0\n",
    "best_dropout_rate_LSTM = None\n",
    "num_epochs = 16\n",
    "\n",
    "for dropout_rate in dropout_rates:\n",
    "    print(f\"Training LSTM with dropout rate: {dropout_rate}\")\n",
    "    lstm_model = LSTM(input_dim, lstm_embedding_dim, best_hidden_dim_LSTM, output_dim, dropout_rate)\n",
    "    lstm_optimizer = optim.Adam(lstm_model.parameters(), lr=best_lr_LSTM)  # Set your optimal learning rate\n",
    "    test_accuracy = train_and_evaluate(lstm_model, train_loader, val_loader, lstm_optimizer, criterion, device, num_epochs)\n",
    "    if test_accuracy > best_test_accuracy:\n",
    "        best_test_accuracy = test_accuracy\n",
    "        best_dropout_rate_LSTM = dropout_rate\n",
    "\n",
    "print(f\"Best dropout rate is: {best_dropout_rate_LSTM} with an accuracy of: {best_test_accuracy}\")"
   ],
   "execution_count":10,
   "outputs":[
    {
     "name":"stdout",
     "text":[
      "Training LSTM with dropout rate: 0.0\n",
      "\n",
      "Epoch 1: Train Loss: 1.0886, Train Accuracy: 38.05%, Validation Loss: 1.0716, Validation Accuracy: 41.95%\n",
      "Epoch 2: Train Loss: 1.0548, Train Accuracy: 45.07%, Validation Loss: 1.0476, Validation Accuracy: 45.64%\n",
      "Epoch 3: Train Loss: 0.9993, Train Accuracy: 50.93%, Validation Loss: 0.9858, Validation Accuracy: 52.88%\n",
      "Epoch 4: Train Loss: 0.8975, Train Accuracy: 60.78%, Validation Loss: 0.9506, Validation Accuracy: 56.02%\n",
      "Epoch 5: Train Loss: 0.7793, Train Accuracy: 68.04%, Validation Loss: 0.9283, Validation Accuracy: 57.84%\n",
      "Epoch 6: Train Loss: 0.6702, Train Accuracy: 73.76%, Validation Loss: 0.9670, Validation Accuracy: 59.46%\n",
      "Epoch 7: Train Loss: 0.5604, Train Accuracy: 78.71%, Validation Loss: 1.0183, Validation Accuracy: 58.67%\n",
      "Epoch 8: Train Loss: 0.4561, Train Accuracy: 83.44%, Validation Loss: 1.0659, Validation Accuracy: 58.43%\n",
      "Epoch 9: Train Loss: 0.3483, Train Accuracy: 88.05%, Validation Loss: 1.1482, Validation Accuracy: 59.53%\n",
      "Epoch 10: Train Loss: 0.2617, Train Accuracy: 91.56%, Validation Loss: 1.3974, Validation Accuracy: 58.22%\n",
      "Epoch 11: Train Loss: 0.1986, Train Accuracy: 93.75%, Validation Loss: 1.4996, Validation Accuracy: 59.12%\n",
      "Epoch 12: Train Loss: 0.1623, Train Accuracy: 94.92%, Validation Loss: 1.6157, Validation Accuracy: 57.84%\n",
      "Stopping early at epoch 12\n",
      "Training LSTM with dropout rate: 0.2\n",
      "Epoch 1: Train Loss: 1.0905, Train Accuracy: 37.13%, Validation Loss: 1.0678, Validation Accuracy: 39.74%\n",
      "Epoch 2: Train Loss: 1.0483, Train Accuracy: 43.32%, Validation Loss: 0.9981, Validation Accuracy: 51.26%\n",
      "Epoch 3: Train Loss: 0.9512, Train Accuracy: 55.24%, Validation Loss: 0.9683, Validation Accuracy: 54.64%\n",
      "Epoch 4: Train Loss: 0.8200, Train Accuracy: 64.85%, Validation Loss: 0.8964, Validation Accuracy: 58.91%\n",
      "Epoch 5: Train Loss: 0.7095, Train Accuracy: 71.27%, Validation Loss: 0.8817, Validation Accuracy: 61.19%\n",
      "Epoch 6: Train Loss: 0.6100, Train Accuracy: 76.20%, Validation Loss: 0.9272, Validation Accuracy: 59.91%\n",
      "Epoch 7: Train Loss: 0.5157, Train Accuracy: 80.82%, Validation Loss: 1.0106, Validation Accuracy: 60.77%\n",
      "Epoch 8: Train Loss: 0.4195, Train Accuracy: 85.25%, Validation Loss: 1.0507, Validation Accuracy: 60.57%\n",
      "Stopping early at epoch 8\n",
      "Training LSTM with dropout rate: 0.4\n",
      "Epoch 1: Train Loss: 1.0930, Train Accuracy: 36.99%, Validation Loss: 1.0870, Validation Accuracy: 42.36%\n",
      "Epoch 2: Train Loss: 1.0617, Train Accuracy: 43.89%, Validation Loss: 1.0436, Validation Accuracy: 46.67%\n",
      "Epoch 3: Train Loss: 0.9963, Train Accuracy: 51.07%, Validation Loss: 0.9822, Validation Accuracy: 53.91%\n",
      "Epoch 4: Train Loss: 0.8794, Train Accuracy: 61.97%, Validation Loss: 0.9319, Validation Accuracy: 58.12%\n",
      "Epoch 5: Train Loss: 0.7612, Train Accuracy: 69.24%, Validation Loss: 0.8855, Validation Accuracy: 60.98%\n",
      "Epoch 6: Train Loss: 0.6387, Train Accuracy: 75.72%, Validation Loss: 0.8980, Validation Accuracy: 61.60%\n",
      "Epoch 7: Train Loss: 0.5256, Train Accuracy: 80.93%, Validation Loss: 1.0044, Validation Accuracy: 60.46%\n",
      "Epoch 8: Train Loss: 0.4185, Train Accuracy: 85.37%, Validation Loss: 1.1130, Validation Accuracy: 60.05%\n",
      "Epoch 9: Train Loss: 0.3199, Train Accuracy: 89.48%, Validation Loss: 1.1984, Validation Accuracy: 60.63%\n",
      "Stopping early at epoch 9\n",
      "Training LSTM with dropout rate: 0.6\n",
      "Epoch 1: Train Loss: 1.0943, Train Accuracy: 36.43%, Validation Loss: 1.0921, Validation Accuracy: 37.30%\n",
      "Epoch 2: Train Loss: 1.0761, Train Accuracy: 38.71%, Validation Loss: 1.0505, Validation Accuracy: 42.67%\n",
      "Epoch 3: Train Loss: 0.9982, Train Accuracy: 48.99%, Validation Loss: 0.9404, Validation Accuracy: 55.43%\n",
      "Epoch 4: Train Loss: 0.8746, Train Accuracy: 60.63%, Validation Loss: 0.9017, Validation Accuracy: 59.57%\n",
      "Epoch 5: Train Loss: 0.7640, Train Accuracy: 67.66%, Validation Loss: 0.8725, Validation Accuracy: 60.81%\n",
      "Epoch 6: Train Loss: 0.6711, Train Accuracy: 73.07%, Validation Loss: 0.8891, Validation Accuracy: 60.53%\n",
      "Epoch 7: Train Loss: 0.5766, Train Accuracy: 77.96%, Validation Loss: 0.9702, Validation Accuracy: 60.77%\n",
      "Epoch 8: Train Loss: 0.4845, Train Accuracy: 82.64%, Validation Loss: 1.0145, Validation Accuracy: 59.60%\n",
      "Stopping early at epoch 8\n",
      "Training LSTM with dropout rate: 0.8\n",
      "Epoch 1: Train Loss: 1.0996, Train Accuracy: 36.67%, Validation Loss: 1.0855, Validation Accuracy: 37.47%\n",
      "Epoch 2: Train Loss: 1.0862, Train Accuracy: 38.11%, Validation Loss: 1.0705, Validation Accuracy: 42.92%\n",
      "Epoch 3: Train Loss: 1.0609, Train Accuracy: 42.88%, Validation Loss: 1.0631, Validation Accuracy: 42.78%\n",
      "Epoch 4: Train Loss: 1.0146, Train Accuracy: 49.01%, Validation Loss: 1.0081, Validation Accuracy: 50.84%\n",
      "Epoch 5: Train Loss: 0.9154, Train Accuracy: 58.91%, Validation Loss: 0.9787, Validation Accuracy: 52.71%\n",
      "Epoch 6: Train Loss: 0.8061, Train Accuracy: 66.92%, Validation Loss: 0.9195, Validation Accuracy: 58.74%\n",
      "Epoch 7: Train Loss: 0.6908, Train Accuracy: 73.77%, Validation Loss: 0.9405, Validation Accuracy: 59.12%\n",
      "Epoch 8: Train Loss: 0.5819, Train Accuracy: 78.80%, Validation Loss: 0.9408, Validation Accuracy: 59.15%\n",
      "Epoch 9: Train Loss: 0.4828, Train Accuracy: 83.45%, Validation Loss: 1.0638, Validation Accuracy: 59.39%\n",
      "Epoch 10: Train Loss: 0.4049, Train Accuracy: 86.40%, Validation Loss: 1.1141, Validation Accuracy: 59.57%\n",
      "Epoch 11: Train Loss: 0.3357, Train Accuracy: 89.09%, Validation Loss: 1.2141, Validation Accuracy: 58.01%\n",
      "Epoch 12: Train Loss: 0.2739, Train Accuracy: 91.67%, Validation Loss: 1.2190, Validation Accuracy: 57.67%\n",
      "Epoch 13: Train Loss: 0.2447, Train Accuracy: 92.51%, Validation Loss: 1.3446, Validation Accuracy: 58.12%\n",
      "Stopping early at epoch 13\n",
      "Best dropout rate is: 0.4 with an accuracy of: 61.59944846604619\n"
     ],
     "output_type":"stream"
    },
    {
     "name":"stderr",
     "text":[
      "\n"
     ],
     "output_type":"stream"
    }
   ],
   "metadata":{
    "datalore":{
     "node_id":"cUX5dqiAKEIzcmbzKfLwbm",
     "type":"CODE",
     "hide_input_from_viewers":false,
     "hide_output_from_viewers":false,
     "report_properties":{
      "rowId":"bhiLf8wor1D9vUsQwLOHnC"
     }
    }
   }
  },
  {
   "cell_type":"code",
   "source":[
    "# evaluating our chosen model on the test dataset, showing graphs and confusion matrix:\n",
    "lstm_model = LSTM(input_dim, lstm_embedding_dim, best_hidden_dim_LSTM, output_dim, best_dropout_rate_LSTM)\n",
    "lstm_optimizer = optim.Adam(lstm_model.parameters(), lr=best_lr_LSTM)  \n",
    "train_and_evaluate(lstm_model, train_loader, test_loader, lstm_optimizer, criterion, device, num_epochs,True,'Test')"
   ],
   "execution_count":11,
   "outputs":[
    {
     "name":"stdout",
     "text":[
      "Epoch 1: Train Loss: 1.0893, Train Accuracy: 37.42%, Test Loss: 1.0811, Test Accuracy: 44.41%\n",
      "Epoch 2: Train Loss: 1.0588, Train Accuracy: 44.15%, Test Loss: 1.0722, Test Accuracy: 44.59%\n",
      "Epoch 3: Train Loss: 1.0051, Train Accuracy: 50.47%, Test Loss: 1.0681, Test Accuracy: 44.47%\n",
      "Epoch 4: Train Loss: 0.8925, Train Accuracy: 60.67%, Test Loss: 1.0907, Test Accuracy: 46.16%\n",
      "Epoch 5: Train Loss: 0.7699, Train Accuracy: 68.51%, Test Loss: 1.1087, Test Accuracy: 49.00%\n",
      "Epoch 6: Train Loss: 0.6498, Train Accuracy: 75.14%, Test Loss: 1.2480, Test Accuracy: 46.29%\n",
      "Epoch 7: Train Loss: 0.5260, Train Accuracy: 80.69%, Test Loss: 1.3773, Test Accuracy: 46.97%\n",
      "Epoch 8: Train Loss: 0.4253, Train Accuracy: 85.35%, Test Loss: 1.5871, Test Accuracy: 47.03%\n",
      "Stopping early at epoch 8\n",
      "Best Test accuracy: 48.99731238370891\n",
      "\n",
      "\n",
      "\n"
     ],
     "output_type":"stream"
    },
    {
     "name":"stderr",
     "text":[
      "\n",
      "\n",
      "\n"
     ],
     "output_type":"stream"
    },
    {
     "data":{
      "image\/png":"[encoded data removed]"
     },
     "metadata":{
      "image\/png":{
       
      }
     },
     "output_type":"display_data"
    },
    {
     "data":{
      "text\/plain":[
       "<Figure size 1200x500 with 2 Axes>"
      ]
     },
     "metadata":{
      
     },
     "output_type":"display_data"
    },
    {
     "data":{
      "image\/png":"[encoded data removed]"
     },
     "metadata":{
      "image\/png":{
       
      }
     },
     "output_type":"display_data"
    },
    {
     "data":{
      "text\/plain":[
       "<Figure size 640x480 with 2 Axes>"
      ]
     },
     "metadata":{
      
     },
     "output_type":"display_data"
    },
    {
     "data":{
      "text\/plain":[
       "48.99731238370891"
      ]
     },
     "metadata":{
      
     },
     "output_type":"display_data"
    }
   ],
   "metadata":{
    "datalore":{
     "node_id":"dq8Yf0ZpvZQz80NuFJ9aek",
     "type":"CODE",
     "hide_input_from_viewers":false,
     "hide_output_from_viewers":false,
     "report_properties":{
      "rowId":"bhiLf8wor1D9vUsQwLOHnC"
     }
    }
   }
  },
  {
   "cell_type":"markdown",
   "source":[
    "# RNN Model"
   ],
   "attachments":{
    
   },
   "metadata":{
    "datalore":{
     "node_id":"uf33PcdOnDXadtK89W7GRB",
     "type":"MD",
     "hide_input_from_viewers":false,
     "hide_output_from_viewers":false,
     "report_properties":{
      "rowId":"bhiLf8wor1D9vUsQwLOHnC"
     }
    }
   }
  },
  {
   "cell_type":"code",
   "source":[
    "criterion = nn.CrossEntropyLoss()\n",
    "# Move to GPU, if available\n",
    "device = torch.device('cuda' if torch.cuda.is_available() else 'cpu')\n",
    "rnn_embedding_dim = 100"
   ],
   "execution_count":null,
   "outputs":[
    
   ],
   "metadata":{
    "datalore":{
     "node_id":"eRY7BDWViqYEiAYoFQp30X",
     "type":"CODE",
     "hide_input_from_viewers":false,
     "hide_output_from_viewers":false,
     "report_properties":{
      "rowId":"bhiLf8wor1D9vUsQwLOHnC"
     }
    }
   }
  },
  {
   "cell_type":"code",
   "source":[
    "# trying out different hidden layer dimensions for our RNN model\n",
    "\n",
    "hidden_dims = [32, 64, 128, 256, 512]  \n",
    "best_test_accuracy = 0\n",
    "best_hidden_dim_RNN = None\n",
    "num_epochs = 16\n",
    "\n",
    "for hidden_dim in hidden_dims:\n",
    "    print(f\"Training RNN with hidden dimension: {hidden_dim}\")\n",
    "    rnn_model = RNN(input_dim, rnn_embedding_dim, hidden_dim, output_dim)\n",
    "    rnn_optimizer = optim.Adam(rnn_model.parameters(), lr=0.001)  \n",
    "    test_accuracy = train_and_evaluate(rnn_model, train_loader, val_loader, rnn_optimizer, criterion, device, num_epochs)\n",
    "    print(f\"Test Accuracy for hidden dimension {hidden_dim}: {test_accuracy}%\")\n",
    "    if test_accuracy > best_test_accuracy:\n",
    "        best_test_accuracy = test_accuracy\n",
    "        best_hidden_dim_RNN = hidden_dim\n",
    "\n",
    "print(f\"Best hidden dimension for RNN is: {best_hidden_dim_RNN} with an accuracy of: {best_test_accuracy}%\")"
   ],
   "execution_count":13,
   "outputs":[
    {
     "name":"stdout",
     "text":[
      "Training RNN with hidden dimension: 32\n",
      "\n",
      "Epoch 1: Train Loss: 1.0901, Train Accuracy: 37.14%, Validation Loss: 1.0844, Validation Accuracy: 37.44%\n",
      "Epoch 2: Train Loss: 1.0890, Train Accuracy: 37.26%, Validation Loss: 1.0989, Validation Accuracy: 37.37%\n",
      "Epoch 3: Train Loss: 1.0868, Train Accuracy: 37.48%, Validation Loss: 1.0869, Validation Accuracy: 37.40%\n",
      "Epoch 4: Train Loss: 1.0865, Train Accuracy: 37.95%, Validation Loss: 1.0852, Validation Accuracy: 37.54%\n",
      "Epoch 5: Train Loss: 1.0840, Train Accuracy: 37.88%, Validation Loss: 1.0844, Validation Accuracy: 37.37%\n",
      "Epoch 6: Train Loss: 1.0851, Train Accuracy: 37.95%, Validation Loss: 1.0836, Validation Accuracy: 37.50%\n",
      "Epoch 7: Train Loss: 1.0845, Train Accuracy: 37.71%, Validation Loss: 1.0853, Validation Accuracy: 37.44%\n",
      "Stopping early at epoch 7\n",
      "Test Accuracy for hidden dimension 32: 37.5387797311272%\n",
      "Training RNN with hidden dimension: 64\n",
      "Epoch 1: Train Loss: 1.0923, Train Accuracy: 37.17%, Validation Loss: 1.0840, Validation Accuracy: 37.47%\n",
      "Epoch 2: Train Loss: 1.0886, Train Accuracy: 37.63%, Validation Loss: 1.0887, Validation Accuracy: 37.44%\n",
      "Epoch 3: Train Loss: 1.0861, Train Accuracy: 37.45%, Validation Loss: 1.0844, Validation Accuracy: 37.37%\n",
      "Epoch 4: Train Loss: 1.0862, Train Accuracy: 37.20%, Validation Loss: 1.0860, Validation Accuracy: 37.95%\n",
      "Epoch 5: Train Loss: 1.0836, Train Accuracy: 36.94%, Validation Loss: 1.0936, Validation Accuracy: 37.16%\n",
      "Epoch 6: Train Loss: 1.0836, Train Accuracy: 37.54%, Validation Loss: 1.0861, Validation Accuracy: 37.37%\n",
      "Epoch 7: Train Loss: 1.0824, Train Accuracy: 37.88%, Validation Loss: 1.0867, Validation Accuracy: 38.19%\n",
      "Epoch 8: Train Loss: 1.0807, Train Accuracy: 38.21%, Validation Loss: 1.0853, Validation Accuracy: 38.16%\n",
      "Epoch 9: Train Loss: 1.0789, Train Accuracy: 38.00%, Validation Loss: 1.0905, Validation Accuracy: 37.19%\n",
      "Epoch 10: Train Loss: 1.0770, Train Accuracy: 38.30%, Validation Loss: 1.0938, Validation Accuracy: 37.13%\n",
      "Stopping early at epoch 10\n",
      "Test Accuracy for hidden dimension 64: 38.193726301275426%\n",
      "Training RNN with hidden dimension: 128\n",
      "Epoch 1: Train Loss: 1.0911, Train Accuracy: 36.28%, Validation Loss: 1.0899, Validation Accuracy: 37.26%\n",
      "Epoch 2: Train Loss: 1.0879, Train Accuracy: 37.48%, Validation Loss: 1.0839, Validation Accuracy: 37.50%\n",
      "Epoch 3: Train Loss: 1.0872, Train Accuracy: 37.50%, Validation Loss: 1.0844, Validation Accuracy: 37.40%\n",
      "Epoch 4: Train Loss: 1.0851, Train Accuracy: 37.59%, Validation Loss: 1.0892, Validation Accuracy: 37.33%\n",
      "Epoch 5: Train Loss: 1.0848, Train Accuracy: 37.29%, Validation Loss: 1.0887, Validation Accuracy: 37.57%\n",
      "Epoch 6: Train Loss: 1.0830, Train Accuracy: 37.52%, Validation Loss: 1.0863, Validation Accuracy: 37.26%\n",
      "Epoch 7: Train Loss: 1.0795, Train Accuracy: 37.96%, Validation Loss: 1.0885, Validation Accuracy: 37.23%\n",
      "Epoch 8: Train Loss: 1.0796, Train Accuracy: 37.70%, Validation Loss: 1.0869, Validation Accuracy: 37.64%\n",
      "Epoch 9: Train Loss: 1.0773, Train Accuracy: 38.01%, Validation Loss: 1.0901, Validation Accuracy: 37.78%\n",
      "Epoch 10: Train Loss: 1.0742, Train Accuracy: 38.40%, Validation Loss: 1.0958, Validation Accuracy: 36.81%\n",
      "Epoch 11: Train Loss: 1.0700, Train Accuracy: 38.54%, Validation Loss: 1.1010, Validation Accuracy: 36.75%\n",
      "Epoch 12: Train Loss: 1.0719, Train Accuracy: 38.08%, Validation Loss: 1.1005, Validation Accuracy: 36.64%\n",
      "Stopping early at epoch 12\n",
      "Test Accuracy for hidden dimension 128: 37.78007583591865%\n",
      "Training RNN with hidden dimension: 256\n",
      "Epoch 1: Train Loss: 1.0935, Train Accuracy: 35.84%, Validation Loss: 1.0841, Validation Accuracy: 37.71%\n",
      "Epoch 2: Train Loss: 1.0884, Train Accuracy: 37.40%, Validation Loss: 1.0851, Validation Accuracy: 37.30%\n",
      "Epoch 3: Train Loss: 1.0862, Train Accuracy: 37.38%, Validation Loss: 1.0910, Validation Accuracy: 37.16%\n",
      "Epoch 4: Train Loss: 1.0855, Train Accuracy: 37.65%, Validation Loss: 1.0861, Validation Accuracy: 37.30%\n",
      "Stopping early at epoch 4\n",
      "Test Accuracy for hidden dimension 256: 37.71113409169252%\n",
      "Training RNN with hidden dimension: 512\n",
      "Epoch 1: Train Loss: 1.0924, Train Accuracy: 36.59%, Validation Loss: 1.0855, Validation Accuracy: 37.33%\n",
      "Epoch 2: Train Loss: 1.0884, Train Accuracy: 36.84%, Validation Loss: 1.0842, Validation Accuracy: 37.30%\n",
      "Epoch 3: Train Loss: 1.0869, Train Accuracy: 37.45%, Validation Loss: 1.0859, Validation Accuracy: 37.37%\n",
      "Epoch 4: Train Loss: 1.0846, Train Accuracy: 37.46%, Validation Loss: 1.0865, Validation Accuracy: 37.19%\n",
      "Epoch 5: Train Loss: 1.0832, Train Accuracy: 37.97%, Validation Loss: 1.0865, Validation Accuracy: 37.57%\n",
      "Epoch 6: Train Loss: 1.0821, Train Accuracy: 38.20%, Validation Loss: 1.0896, Validation Accuracy: 37.54%\n",
      "Epoch 7: Train Loss: 1.0815, Train Accuracy: 37.74%, Validation Loss: 1.0917, Validation Accuracy: 37.33%\n",
      "Epoch 8: Train Loss: 1.0799, Train Accuracy: 38.21%, Validation Loss: 1.0946, Validation Accuracy: 37.26%\n",
      "Stopping early at epoch 8\n",
      "Test Accuracy for hidden dimension 512: 37.57325060324026%\n",
      "Best hidden dimension for RNN is: 64 with an accuracy of: 38.193726301275426%\n"
     ],
     "output_type":"stream"
    },
    {
     "name":"stderr",
     "text":[
      "\n"
     ],
     "output_type":"stream"
    }
   ],
   "metadata":{
    "datalore":{
     "node_id":"Crrt14N0p2IYZlg0pSu2yN",
     "type":"CODE",
     "hide_input_from_viewers":false,
     "hide_output_from_viewers":false,
     "report_properties":{
      "rowId":"bhiLf8wor1D9vUsQwLOHnC"
     }
    }
   }
  },
  {
   "cell_type":"code",
   "source":[
    "learning_rates = [0.1, 0.01, 0.005, 0.001, 0.0001]\n",
    "best_test_accuracy = 0\n",
    "best_lr_RNN = None\n",
    "num_epochs = 16\n",
    "for lr in learning_rates:\n",
    "    print(f\"Training RNN with learning rate: {lr}\")\n",
    "    rnn_model = RNN(input_dim, rnn_embedding_dim, best_hidden_dim_RNN, output_dim)\n",
    "    rnn_optimizer = optim.Adam(rnn_model.parameters(), lr=lr)\n",
    "    test_accuracy = train_and_evaluate(rnn_model, train_loader, val_loader, rnn_optimizer, criterion, device,num_epochs,False)\n",
    "    if test_accuracy > best_test_accuracy:\n",
    "        best_test_accuracy = test_accuracy\n",
    "        best_lr_RNN = lr\n",
    "\n",
    "\n",
    "print(f\"Best learning rate for the RNN is: {best_lr_RNN} with an accuracy of: {best_test_accuracy}\")"
   ],
   "execution_count":14,
   "outputs":[
    {
     "name":"stdout",
     "text":[
      "Training RNN with learning rate: 0.1\n",
      "\n",
      "Epoch 1: Train Loss: 25955015715.3742, Train Accuracy: 38.02%, Validation Loss: 1.3216, Validation Accuracy: 37.44%\n",
      "Epoch 2: Train Loss: 1.3507, Train Accuracy: 36.35%, Validation Loss: 1.3315, Validation Accuracy: 37.33%\n",
      "Epoch 3: Train Loss: 1.2560, Train Accuracy: 36.30%, Validation Loss: 1.4312, Validation Accuracy: 37.37%\n",
      "Epoch 4: Train Loss: 1.3725, Train Accuracy: 36.95%, Validation Loss: 1.7773, Validation Accuracy: 37.26%\n",
      "Stopping early at epoch 4\n",
      "Training RNN with learning rate: 0.01\n",
      "Epoch 1: Train Loss: 1.0965, Train Accuracy: 37.33%, Validation Loss: 1.0918, Validation Accuracy: 37.09%\n",
      "Epoch 2: Train Loss: 1.0881, Train Accuracy: 37.44%, Validation Loss: 1.0879, Validation Accuracy: 37.37%\n",
      "Epoch 3: Train Loss: 1.0889, Train Accuracy: 37.39%, Validation Loss: 1.0847, Validation Accuracy: 37.26%\n",
      "Epoch 4: Train Loss: 1.0890, Train Accuracy: 37.27%, Validation Loss: 1.0908, Validation Accuracy: 37.30%\n",
      "Epoch 5: Train Loss: 1.0924, Train Accuracy: 37.17%, Validation Loss: 1.0883, Validation Accuracy: 37.40%\n",
      "Epoch 6: Train Loss: 125.5773, Train Accuracy: 35.59%, Validation Loss: 2820951.9448, Validation Accuracy: 36.47%\n",
      "Epoch 7: Train Loss: 44227216062703244115181568.0000, Train Accuracy: 34.18%, Validation Loss: 250758840832037086287626240.0000, Validation Accuracy: 36.37%\n",
      "Epoch 8: Train Loss: 133942282371004462377467904.0000, Train Accuracy: 36.47%, Validation Loss: 658294961898050943203672064.0000, Validation Accuracy: 36.75%\n",
      "Stopping early at epoch 8\n",
      "Training RNN with learning rate: 0.005\n",
      "Epoch 1: Train Loss: 1.0941, Train Accuracy: 36.09%, Validation Loss: 1.0899, Validation Accuracy: 37.26%\n",
      "Epoch 2: Train Loss: 1.0886, Train Accuracy: 37.52%, Validation Loss: 1.0846, Validation Accuracy: 37.23%\n",
      "Epoch 3: Train Loss: 1.0862, Train Accuracy: 37.54%, Validation Loss: 1.0857, Validation Accuracy: 37.40%\n",
      "Epoch 4: Train Loss: 1.0852, Train Accuracy: 37.65%, Validation Loss: 1.0854, Validation Accuracy: 37.47%\n",
      "Epoch 5: Train Loss: 1.0845, Train Accuracy: 37.24%, Validation Loss: 1.0923, Validation Accuracy: 37.47%\n",
      "Epoch 6: Train Loss: 1.0830, Train Accuracy: 37.95%, Validation Loss: 1.0922, Validation Accuracy: 37.13%\n",
      "Epoch 7: Train Loss: 1.0803, Train Accuracy: 37.85%, Validation Loss: 1.0899, Validation Accuracy: 37.50%\n",
      "Epoch 8: Train Loss: 1.0841, Train Accuracy: 38.20%, Validation Loss: 1.0926, Validation Accuracy: 37.30%\n",
      "Epoch 9: Train Loss: 1.0801, Train Accuracy: 38.10%, Validation Loss: 1.0910, Validation Accuracy: 37.68%\n",
      "Epoch 10: Train Loss: 1.0796, Train Accuracy: 38.04%, Validation Loss: 1.0960, Validation Accuracy: 37.47%\n",
      "Epoch 11: Train Loss: 1.0798, Train Accuracy: 38.32%, Validation Loss: 1.0982, Validation Accuracy: 37.44%\n",
      "Epoch 12: Train Loss: 1.0796, Train Accuracy: 37.98%, Validation Loss: 1.0979, Validation Accuracy: 37.57%\n",
      "Stopping early at epoch 12\n",
      "Training RNN with learning rate: 0.001\n",
      "Epoch 1: Train Loss: 1.0929, Train Accuracy: 36.34%, Validation Loss: 1.0845, Validation Accuracy: 37.33%\n",
      "Epoch 2: Train Loss: 1.0896, Train Accuracy: 36.81%, Validation Loss: 1.0846, Validation Accuracy: 37.40%\n",
      "Epoch 3: Train Loss: 1.0874, Train Accuracy: 36.90%, Validation Loss: 1.0832, Validation Accuracy: 37.33%\n",
      "Epoch 4: Train Loss: 1.0863, Train Accuracy: 37.24%, Validation Loss: 1.0834, Validation Accuracy: 37.54%\n",
      "Epoch 5: Train Loss: 1.0836, Train Accuracy: 37.22%, Validation Loss: 1.0832, Validation Accuracy: 37.37%\n",
      "Epoch 6: Train Loss: 1.0823, Train Accuracy: 37.95%, Validation Loss: 1.0849, Validation Accuracy: 37.44%\n",
      "Epoch 7: Train Loss: 1.0814, Train Accuracy: 38.24%, Validation Loss: 1.0842, Validation Accuracy: 37.19%\n",
      "Stopping early at epoch 7\n",
      "Training RNN with learning rate: 0.0001\n",
      "Epoch 1: Train Loss: 1.1125, Train Accuracy: 35.46%, Validation Loss: 1.0863, Validation Accuracy: 37.26%\n",
      "Epoch 2: Train Loss: 1.0876, Train Accuracy: 37.35%, Validation Loss: 1.0850, Validation Accuracy: 37.30%\n",
      "Epoch 3: Train Loss: 1.0875, Train Accuracy: 37.48%, Validation Loss: 1.0852, Validation Accuracy: 37.26%\n",
      "Epoch 4: Train Loss: 1.0875, Train Accuracy: 37.44%, Validation Loss: 1.0849, Validation Accuracy: 37.33%\n",
      "Epoch 5: Train Loss: 1.0866, Train Accuracy: 37.51%, Validation Loss: 1.0841, Validation Accuracy: 37.33%\n",
      "Epoch 6: Train Loss: 1.0863, Train Accuracy: 37.08%, Validation Loss: 1.0854, Validation Accuracy: 37.23%\n",
      "Epoch 7: Train Loss: 1.0861, Train Accuracy: 37.90%, Validation Loss: 1.0837, Validation Accuracy: 37.19%\n",
      "Stopping early at epoch 7\n",
      "Best learning rate for the RNN is: 0.005 with an accuracy of: 37.67666321957945\n"
     ],
     "output_type":"stream"
    },
    {
     "name":"stderr",
     "text":[
      "\n"
     ],
     "output_type":"stream"
    }
   ],
   "metadata":{
    "datalore":{
     "node_id":"J8LV4kVst4hc7ZNc9aqe4n",
     "type":"CODE",
     "hide_input_from_viewers":false,
     "hide_output_from_viewers":false,
     "report_properties":{
      "rowId":"bhiLf8wor1D9vUsQwLOHnC"
     }
    }
   }
  },
  {
   "cell_type":"code",
   "source":[
    "# trying out different dropout probabilities for the RNN model (for controling regularization)\n",
    "dropout_rates = [0.0, 0.2, 0.4, 0.6, 0.8]\n",
    "best_test_accuracy = 0\n",
    "best_dropout_rate_RNN = None\n",
    "num_epochs = 16\n",
    "\n",
    "for dropout_rate in dropout_rates:\n",
    "    print(f\"Training RNN with dropout rate: {dropout_rate}\")\n",
    "    rnn_model = RNN(input_dim, rnn_embedding_dim, best_hidden_dim_RNN, output_dim, dropout_rate)\n",
    "    rnn_optimizer = optim.Adam(rnn_model.parameters(), lr=best_lr_RNN) \n",
    "    test_accuracy = train_and_evaluate(rnn_model, train_loader, val_loader, rnn_optimizer, criterion, device, num_epochs)\n",
    "    if test_accuracy > best_test_accuracy:\n",
    "        best_test_accuracy = test_accuracy\n",
    "        best_dropout_rate_RNN = dropout_rate\n",
    "\n",
    "print(f\"Best dropout rate is: {best_dropout_rate_RNN} with an accuracy of: {best_test_accuracy}\")"
   ],
   "execution_count":21,
   "outputs":[
    {
     "name":"stdout",
     "text":[
      "Training RNN with dropout rate: 0.0\n",
      "\n",
      "Epoch 1: Train Loss: 1.0937, Train Accuracy: 36.56%, Validation Loss: 1.0844, Validation Accuracy: 37.33%\n",
      "Epoch 2: Train Loss: 1.0879, Train Accuracy: 37.32%, Validation Loss: 1.0862, Validation Accuracy: 37.33%\n",
      "Epoch 3: Train Loss: 1.0878, Train Accuracy: 37.39%, Validation Loss: 1.0871, Validation Accuracy: 37.47%\n",
      "Epoch 4: Train Loss: 1.0854, Train Accuracy: 37.38%, Validation Loss: 1.0882, Validation Accuracy: 37.16%\n",
      "Epoch 5: Train Loss: 1.0844, Train Accuracy: 37.58%, Validation Loss: 1.0860, Validation Accuracy: 37.37%\n",
      "Epoch 6: Train Loss: 1.0830, Train Accuracy: 38.00%, Validation Loss: 1.0883, Validation Accuracy: 37.40%\n",
      "Stopping early at epoch 6\n",
      "Training RNN with dropout rate: 0.2\n",
      "Epoch 1: Train Loss: 1.0939, Train Accuracy: 36.69%, Validation Loss: 1.0918, Validation Accuracy: 37.40%\n",
      "Epoch 2: Train Loss: 1.0891, Train Accuracy: 37.00%, Validation Loss: 1.0854, Validation Accuracy: 37.37%\n",
      "Epoch 3: Train Loss: 1.0872, Train Accuracy: 37.29%, Validation Loss: 1.0867, Validation Accuracy: 37.50%\n",
      "Epoch 4: Train Loss: 1.0860, Train Accuracy: 37.85%, Validation Loss: 1.0881, Validation Accuracy: 37.30%\n",
      "Epoch 5: Train Loss: 1.0849, Train Accuracy: 37.53%, Validation Loss: 1.0870, Validation Accuracy: 37.19%\n",
      "Epoch 6: Train Loss: 1.0847, Train Accuracy: 37.89%, Validation Loss: 1.0906, Validation Accuracy: 37.19%\n",
      "Stopping early at epoch 6\n",
      "Training RNN with dropout rate: 0.4\n",
      "Epoch 1: Train Loss: 1.0965, Train Accuracy: 36.82%, Validation Loss: 1.0912, Validation Accuracy: 37.33%\n",
      "Epoch 2: Train Loss: 1.0905, Train Accuracy: 37.30%, Validation Loss: 1.0842, Validation Accuracy: 37.37%\n",
      "Epoch 3: Train Loss: 1.0874, Train Accuracy: 37.39%, Validation Loss: 1.0850, Validation Accuracy: 37.26%\n",
      "Epoch 4: Train Loss: 1.0868, Train Accuracy: 37.38%, Validation Loss: 1.0871, Validation Accuracy: 37.40%\n",
      "Epoch 5: Train Loss: 1.0869, Train Accuracy: 37.68%, Validation Loss: 1.0853, Validation Accuracy: 37.54%\n",
      "Epoch 6: Train Loss: 1.0855, Train Accuracy: 37.41%, Validation Loss: 1.0849, Validation Accuracy: 37.40%\n",
      "Epoch 7: Train Loss: 1.0832, Train Accuracy: 37.43%, Validation Loss: 1.0859, Validation Accuracy: 37.40%\n",
      "Epoch 8: Train Loss: 1.0898, Train Accuracy: 37.91%, Validation Loss: 1.0874, Validation Accuracy: 37.40%\n",
      "Stopping early at epoch 8\n",
      "Training RNN with dropout rate: 0.6\n",
      "Epoch 1: Train Loss: 1.0959, Train Accuracy: 37.52%, Validation Loss: 1.0852, Validation Accuracy: 37.30%\n",
      "Epoch 2: Train Loss: 1.0887, Train Accuracy: 37.52%, Validation Loss: 1.0849, Validation Accuracy: 37.13%\n",
      "Epoch 3: Train Loss: 1.0889, Train Accuracy: 37.34%, Validation Loss: 1.0863, Validation Accuracy: 37.26%\n",
      "Epoch 4: Train Loss: 1.0870, Train Accuracy: 37.76%, Validation Loss: 1.0879, Validation Accuracy: 37.26%\n",
      "Stopping early at epoch 4\n",
      "Training RNN with dropout rate: 0.8\n",
      "Epoch 1: Train Loss: 1.0929, Train Accuracy: 37.46%, Validation Loss: 1.0873, Validation Accuracy: 37.33%\n",
      "Epoch 2: Train Loss: 1.0932, Train Accuracy: 37.42%, Validation Loss: 1.0867, Validation Accuracy: 37.26%\n",
      "Epoch 3: Train Loss: 1.0904, Train Accuracy: 37.40%, Validation Loss: 1.0854, Validation Accuracy: 37.19%\n",
      "Epoch 4: Train Loss: 1.0886, Train Accuracy: 37.30%, Validation Loss: 1.0862, Validation Accuracy: 37.19%\n",
      "Stopping early at epoch 4\n",
      "Best dropout rate is: 0.4 with an accuracy of: 37.5387797311272\n"
     ],
     "output_type":"stream"
    },
    {
     "name":"stderr",
     "text":[
      "\n"
     ],
     "output_type":"stream"
    }
   ],
   "metadata":{
    "datalore":{
     "node_id":"l7lhUPmIwHbIKhyVFTyR5P",
     "type":"CODE",
     "hide_input_from_viewers":false,
     "hide_output_from_viewers":false,
     "report_properties":{
      "rowId":"bhiLf8wor1D9vUsQwLOHnC"
     }
    }
   }
  },
  {
   "cell_type":"code",
   "source":[
    "# Evaluating the chosen model on the test dataset, showing graphs and confusion matrix\n",
    "rnn_model = RNN(input_dim, rnn_embedding_dim, best_hidden_dim_RNN, output_dim,best_dropout_rate_RNN)\n",
    "rnn_optimizer = optim.Adam(rnn_model.parameters(), lr=best_lr_RNN) \n",
    "train_and_evaluate(rnn_model, train_loader, test_loader, rnn_optimizer, criterion, device, num_epochs,True,'Test')"
   ],
   "execution_count":25,
   "outputs":[
    {
     "name":"stdout",
     "text":[
      "Epoch 1: Train Loss: 1.0966, Train Accuracy: 36.51%, Test Loss: 1.0898, Test Accuracy: 37.25%\n",
      "Epoch 2: Train Loss: 1.0903, Train Accuracy: 37.60%, Test Loss: 1.0924, Test Accuracy: 37.36%\n",
      "Epoch 3: Train Loss: 1.0876, Train Accuracy: 37.46%, Test Loss: 1.0902, Test Accuracy: 37.46%\n",
      "Epoch 4: Train Loss: 1.0877, Train Accuracy: 37.71%, Test Loss: 1.0933, Test Accuracy: 37.34%\n",
      "Epoch 5: Train Loss: 1.0868, Train Accuracy: 37.78%, Test Loss: 1.0921, Test Accuracy: 37.34%\n",
      "Epoch 6: Train Loss: 1.0862, Train Accuracy: 37.79%, Test Loss: 1.0916, Test Accuracy: 37.42%\n",
      "Stopping early at epoch 6\n",
      "Best Test accuracy: 37.4612363034939\n",
      "\n",
      "\n",
      "\n"
     ],
     "output_type":"stream"
    },
    {
     "name":"stderr",
     "text":[
      "\n",
      "\n",
      "\n"
     ],
     "output_type":"stream"
    },
    {
     "data":{
      "image\/png":"[encoded data removed]"
     },
     "metadata":{
      "image\/png":{
       
      }
     },
     "output_type":"display_data"
    },
    {
     "data":{
      "text\/plain":[
       "<Figure size 1200x500 with 2 Axes>"
      ]
     },
     "metadata":{
      
     },
     "output_type":"display_data"
    },
    {
     "data":{
      "image\/png":"[encoded data removed]"
     },
     "metadata":{
      "image\/png":{
       
      }
     },
     "output_type":"display_data"
    },
    {
     "data":{
      "text\/plain":[
       "<Figure size 640x480 with 2 Axes>"
      ]
     },
     "metadata":{
      
     },
     "output_type":"display_data"
    },
    {
     "data":{
      "text\/plain":[
       "37.4612363034939"
      ]
     },
     "metadata":{
      
     },
     "output_type":"display_data"
    }
   ],
   "metadata":{
    "datalore":{
     "node_id":"eZL2QtHLj6bMOwJrqjPVU7",
     "type":"CODE",
     "hide_input_from_viewers":false,
     "hide_output_from_viewers":false,
     "report_properties":{
      "rowId":"bhiLf8wor1D9vUsQwLOHnC"
     }
    }
   }
  },
  {
   "cell_type":"markdown",
   "source":[
    "### c) Discussion (10 pt)\n",
    "<p style=\"font-size: 17px\">\n",
    "Discuss the differences in the methods you have tried. \n",
    "<\/p>"
   ],
   "attachments":{
    
   },
   "metadata":{
    "datalore":{
     "node_id":"8gf1cw2XMmeQv2sDAJDpSl",
     "type":"MD",
     "hide_input_from_viewers":true,
     "hide_output_from_viewers":true
    }
   }
  },
  {
   "cell_type":"markdown",
   "source":[
    "In this exercise we tried using the Vanilla RNN and LSTM methods. We found that the LSTM achieved better results - ~49% accuracy compared to ~37% accuracy of the RNN model. \n",
    "\n",
    "This finding makes sense because RNNs are typically good at recognizing patterns in data that's close together but struggle with long-distance patterns. This issue is due to the vanishing or exploding gradient problem, where, during training, the gradients can become too small or too large. We noticed this with our RNN model, where the loss and accuracy didn't change much over several epochs (a sign of vanishing gradients) or changed too drastically (a sign of exploding gradients). In contrast, LSTMs are designed to tackle this vanishing gradient issue and are better at learning from long-term patterns. This was evident as the LSTM's training was more stable compared to the RNN.\n",
    "\n",
    "The key difference between the two lies in their structure. Vanilla RNNs have a straightforward design, where the current hidden state is calculated using the present input and the previous hidden state. LSTMs, however, have a more complex setup with input, forget, and output gates, plus a cell state. These features help LSTMs manage information flow more effectively and remember both recent and old data more efficiently."
   ],
   "attachments":{
    
   },
   "metadata":{
    "datalore":{
     "node_id":"iOh1DuyKWX8TCvdG6MGhNH",
     "type":"MD",
     "hide_input_from_viewers":false,
     "hide_output_from_viewers":false,
     "report_properties":{
      "rowId":"pO8BK7GS79hAxArThzLcJD"
     }
    }
   }
  }
 ],
 "metadata":{
  "kernelspec":{
   "display_name":"Python",
   "language":"python",
   "name":"python"
  },
  "datalore":{
   "computation_mode":"JUPYTER",
   "package_manager":"pip",
   "base_environment":"default",
   "packages":[
    
   ],
   "report_row_ids":[
    
   ],
   "version":3
  }
 },
 "nbformat":4,
 "nbformat_minor":4
}